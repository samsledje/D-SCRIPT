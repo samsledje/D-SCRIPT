{
 "cells": [
  {
   "cell_type": "code",
   "execution_count": 1,
   "id": "1ded35a5-2fed-4f85-bbab-eca832ec980f",
   "metadata": {},
   "outputs": [],
   "source": [
    "import h5py"
   ]
  },
  {
   "cell_type": "code",
   "execution_count": 10,
   "id": "dcc4d9b5-6611-4a80-944f-4b403666bacb",
   "metadata": {},
   "outputs": [],
   "source": [
    "from Bio import SeqIO\n",
    "import json\n",
    "\n",
    "fold_fasta_file=\"../../foldseek_emb/r1_foldseekrep_seq.fa\"\n",
    "fold_vocab_file=\"../data/foldseek_vocab.json\"\n",
    "fold_fasta = SeqIO.parse(fold_fasta_file, \"fasta\")\n",
    "with open(fold_vocab_file, \"r\") as fv:\n",
    "    fold_vocab = json.load(fv)"
   ]
  },
  {
   "cell_type": "code",
   "execution_count": 16,
   "id": "ced64d25-926e-4f44-9567-121103de7ae9",
   "metadata": {},
   "outputs": [],
   "source": [
    "import numpy as np\n",
    "\n",
    "def onehot(s):\n",
    "    x = np.zeros((1, 21), dtype = np.float32)\n",
    "    x[0, fold_vocab[s]] = 1\n",
    "    return x\n",
    "\n",
    "with h5py.File(\"../bash_files/embeddings/foldseek_emb.h5\", \"a\") as h5f:\n",
    "    for rec in fold_fasta:\n",
    "        emb = np.expand_dims(np.concatenate([onehot(s) for s in rec.seq], axis = 0), axis = 0)\n",
    "        dset = h5f.require_dataset(name=rec.id, \n",
    "                                   shape = emb.shape,\n",
    "                                   dtype = \"float32\",\n",
    "                                   compression=\"lzf\")\n",
    "        \n",
    "        dset[:] = emb                    "
   ]
  },
  {
   "cell_type": "code",
   "execution_count": 17,
   "id": "bbe2d0dc-6c51-43d8-95b1-39864224d493",
   "metadata": {},
   "outputs": [],
   "source": [
    "## Test "
   ]
  },
  {
   "cell_type": "code",
   "execution_count": 19,
   "id": "166caa7a-9448-4c2e-a96f-abed7f315a87",
   "metadata": {},
   "outputs": [
    {
     "name": "stdout",
     "output_type": "stream",
     "text": [
      "15811\n"
     ]
    }
   ],
   "source": [
    "with h5py.File(\"../bash_files/embeddings/foldseek_emb.h5\", \"r\") as h5f:\n",
    "    print(len(h5f.keys()))"
   ]
  },
  {
   "cell_type": "code",
   "execution_count": null,
   "id": "1a6c27fd-73b0-4d60-95c4-4a5070d494ec",
   "metadata": {},
   "outputs": [],
   "source": []
  }
 ],
 "metadata": {
  "kernelspec": {
   "display_name": "dscript",
   "language": "python",
   "name": "dscript"
  },
  "language_info": {
   "codemirror_mode": {
    "name": "ipython",
    "version": 3
   },
   "file_extension": ".py",
   "mimetype": "text/x-python",
   "name": "python",
   "nbconvert_exporter": "python",
   "pygments_lexer": "ipython3",
   "version": "3.7.12"
  }
 },
 "nbformat": 4,
 "nbformat_minor": 5
}
