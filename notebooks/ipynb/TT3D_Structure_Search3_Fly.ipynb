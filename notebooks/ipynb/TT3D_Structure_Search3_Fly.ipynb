{
 "cells": [
  {
   "cell_type": "code",
   "execution_count": 6,
   "id": "2f6758f0-22a4-40d4-b8a7-638b0087d4f0",
   "metadata": {
    "tags": []
   },
   "outputs": [],
   "source": [
    "import copy\n",
    "import pickle as pk\n",
    "\n",
    "import matplotlib.pyplot as plt\n",
    "import numpy as np\n",
    "import pandas as pd\n",
    "from tqdm.auto import tqdm"
   ]
  },
  {
   "cell_type": "code",
   "execution_count": 7,
   "id": "7eae85be-9cac-44e1-9a12-efe8c22777cd",
   "metadata": {
    "tags": []
   },
   "outputs": [],
   "source": [
    "df_seq_hit = pd.read_csv(\"orthologs-fly-2-human.tsv\", sep=\"\\t\", header=0)\n",
    "df_seq_hit[\"FlybaseId-Fly\"] = \"7227.\" + df_seq_hit[\"FlybaseId-Fly\"]\n",
    "df_seq_hit[\"EnsemblPeptide-Human\"] = \"9606.\" + df_seq_hit[\"EnsemblPeptide-Human\"]"
   ]
  },
  {
   "cell_type": "code",
   "execution_count": 8,
   "id": "5de0d2e0-c8a8-4d40-b1d4-e62c7ff8c82b",
   "metadata": {
    "tags": []
   },
   "outputs": [
    {
     "data": {
      "text/html": [
       "<div>\n",
       "<style scoped>\n",
       "    .dataframe tbody tr th:only-of-type {\n",
       "        vertical-align: middle;\n",
       "    }\n",
       "\n",
       "    .dataframe tbody tr th {\n",
       "        vertical-align: top;\n",
       "    }\n",
       "\n",
       "    .dataframe thead th {\n",
       "        text-align: right;\n",
       "    }\n",
       "</style>\n",
       "<table border=\"1\" class=\"dataframe\">\n",
       "  <thead>\n",
       "    <tr style=\"text-align: right;\">\n",
       "      <th></th>\n",
       "      <th>ExternalName-Fly</th>\n",
       "      <th>FlybaseId-Fly</th>\n",
       "      <th>EnsemblPeptide-Human</th>\n",
       "      <th>ExternalName-Human</th>\n",
       "    </tr>\n",
       "  </thead>\n",
       "  <tbody>\n",
       "    <tr>\n",
       "      <th>0</th>\n",
       "      <td>mt:ND5</td>\n",
       "      <td>7227.FBpp0390633</td>\n",
       "      <td>9606.ENSP00000354813</td>\n",
       "      <td>MT-ND5</td>\n",
       "    </tr>\n",
       "    <tr>\n",
       "      <th>1</th>\n",
       "      <td>mt:ND2</td>\n",
       "      <td>7227.FBpp0100175</td>\n",
       "      <td>9606.ENSP00000355046</td>\n",
       "      <td>MT-ND2</td>\n",
       "    </tr>\n",
       "    <tr>\n",
       "      <th>2</th>\n",
       "      <td>mt:CoIII</td>\n",
       "      <td>7227.FBpp0100180</td>\n",
       "      <td>9606.ENSP00000354982</td>\n",
       "      <td>MT-CO3</td>\n",
       "    </tr>\n",
       "    <tr>\n",
       "      <th>3</th>\n",
       "      <td>mt:ATPase6</td>\n",
       "      <td>7227.FBpp0390630</td>\n",
       "      <td>9606.ENSP00000354632</td>\n",
       "      <td>MT-ATP6</td>\n",
       "    </tr>\n",
       "    <tr>\n",
       "      <th>4</th>\n",
       "      <td>mt:ND4</td>\n",
       "      <td>7227.FBpp0390632</td>\n",
       "      <td>9606.ENSP00000354961</td>\n",
       "      <td>MT-ND4</td>\n",
       "    </tr>\n",
       "    <tr>\n",
       "      <th>...</th>\n",
       "      <td>...</td>\n",
       "      <td>...</td>\n",
       "      <td>...</td>\n",
       "      <td>...</td>\n",
       "    </tr>\n",
       "    <tr>\n",
       "      <th>334001</th>\n",
       "      <td>Cyp4d21</td>\n",
       "      <td>7227.FBpp0079095</td>\n",
       "      <td>NaN</td>\n",
       "      <td>CYP4A22</td>\n",
       "    </tr>\n",
       "    <tr>\n",
       "      <th>334002</th>\n",
       "      <td>Cyp4d21</td>\n",
       "      <td>7227.FBpp0079095</td>\n",
       "      <td>9606.ENSP00000360958</td>\n",
       "      <td>CYP4A22</td>\n",
       "    </tr>\n",
       "    <tr>\n",
       "      <th>334003</th>\n",
       "      <td>Cyp4d21</td>\n",
       "      <td>7227.FBpp0079095</td>\n",
       "      <td>9606.ENSP00000360957</td>\n",
       "      <td>CYP4A22</td>\n",
       "    </tr>\n",
       "    <tr>\n",
       "      <th>334004</th>\n",
       "      <td>Cyp4d21</td>\n",
       "      <td>7227.FBpp0079095</td>\n",
       "      <td>9606.ENSP00000482952</td>\n",
       "      <td>CYP4A22</td>\n",
       "    </tr>\n",
       "    <tr>\n",
       "      <th>334005</th>\n",
       "      <td>Cyp4d21</td>\n",
       "      <td>7227.FBpp0079095</td>\n",
       "      <td>9606.ENSP00000294337</td>\n",
       "      <td>CYP4A22</td>\n",
       "    </tr>\n",
       "  </tbody>\n",
       "</table>\n",
       "<p>334006 rows × 4 columns</p>\n",
       "</div>"
      ],
      "text/plain": [
       "       ExternalName-Fly     FlybaseId-Fly  EnsemblPeptide-Human  \\\n",
       "0                mt:ND5  7227.FBpp0390633  9606.ENSP00000354813   \n",
       "1                mt:ND2  7227.FBpp0100175  9606.ENSP00000355046   \n",
       "2              mt:CoIII  7227.FBpp0100180  9606.ENSP00000354982   \n",
       "3            mt:ATPase6  7227.FBpp0390630  9606.ENSP00000354632   \n",
       "4                mt:ND4  7227.FBpp0390632  9606.ENSP00000354961   \n",
       "...                 ...               ...                   ...   \n",
       "334001          Cyp4d21  7227.FBpp0079095                   NaN   \n",
       "334002          Cyp4d21  7227.FBpp0079095  9606.ENSP00000360958   \n",
       "334003          Cyp4d21  7227.FBpp0079095  9606.ENSP00000360957   \n",
       "334004          Cyp4d21  7227.FBpp0079095  9606.ENSP00000482952   \n",
       "334005          Cyp4d21  7227.FBpp0079095  9606.ENSP00000294337   \n",
       "\n",
       "       ExternalName-Human  \n",
       "0                  MT-ND5  \n",
       "1                  MT-ND2  \n",
       "2                  MT-CO3  \n",
       "3                 MT-ATP6  \n",
       "4                  MT-ND4  \n",
       "...                   ...  \n",
       "334001            CYP4A22  \n",
       "334002            CYP4A22  \n",
       "334003            CYP4A22  \n",
       "334004            CYP4A22  \n",
       "334005            CYP4A22  \n",
       "\n",
       "[334006 rows x 4 columns]"
      ]
     },
     "execution_count": 8,
     "metadata": {},
     "output_type": "execute_result"
    }
   ],
   "source": [
    "df_seq_hit"
   ]
  },
  {
   "cell_type": "code",
   "execution_count": 9,
   "id": "03ec2bae-4612-40ae-8e40-4f84e82fddc2",
   "metadata": {
    "tags": []
   },
   "outputs": [],
   "source": [
    "def lexical_pair(x, y):\n",
    "    if x < y:\n",
    "        return (x, y)\n",
    "    else:\n",
    "        return (y, x)"
   ]
  },
  {
   "cell_type": "code",
   "execution_count": 10,
   "id": "d09952b6-bec9-4daa-9046-883581d60492",
   "metadata": {
    "tags": []
   },
   "outputs": [
    {
     "data": {
      "application/vnd.jupyter.widget-view+json": {
       "model_id": "595eb7d20b7d4e6f9c2424b6d7713f26",
       "version_major": 2,
       "version_minor": 0
      },
      "text/plain": [
       "  0%|          | 0/421792 [00:00<?, ?it/s]"
      ]
     },
     "metadata": {},
     "output_type": "display_data"
    }
   ],
   "source": [
    "pair_directory = (\n",
    "    \"/afs/csail.mit.edu/u/s/samsl/Work/TT3D/FoldSeek_BriefCommunication/data/pairs\"\n",
    ")\n",
    "human_training = pd.read_csv(f\"{pair_directory}/human_train.tsv\", sep=\"\\t\", header=None)\n",
    "fly_test = pd.read_csv(f\"{pair_directory}/fly_test.tsv\", sep=\"\\t\", header=None)\n",
    "ecoli_test = pd.read_csv(f\"{pair_directory}/yeast_test.tsv\", sep=\"\\t\", header=None)\n",
    "\n",
    "human_edge_lookup = {}\n",
    "for _, r in tqdm(human_training.iterrows(), total=len(human_training)):\n",
    "    human_edge_lookup[lexical_pair(r[0], r[1])] = r[2]"
   ]
  },
  {
   "cell_type": "code",
   "execution_count": 37,
   "id": "a2579f05-3aee-4652-a114-06ebc6af8177",
   "metadata": {
    "tags": []
   },
   "outputs": [],
   "source": [
    "human_pos = human_training[human_training[2] == 1]"
   ]
  },
  {
   "cell_type": "code",
   "execution_count": 38,
   "id": "e92a15b6-b3a3-49f7-a2ab-3bf04cc7cb7e",
   "metadata": {
    "tags": []
   },
   "outputs": [],
   "source": [
    "human_proteins = set(human_training[0]).union(human_training[1])"
   ]
  },
  {
   "cell_type": "code",
   "execution_count": 39,
   "id": "73ea51dd-66f1-4f4b-931b-277c9c4c39a5",
   "metadata": {
    "tags": []
   },
   "outputs": [
    {
     "data": {
      "application/vnd.jupyter.widget-view+json": {
       "model_id": "cabbb88b7d9f40e99a2a91c5fdbd2b4f",
       "version_major": 2,
       "version_minor": 0
      },
      "text/plain": [
       "  0%|          | 0/15816 [00:00<?, ?it/s]"
      ]
     },
     "metadata": {},
     "output_type": "display_data"
    }
   ],
   "source": [
    "human_to_fly_lookup = {}\n",
    "for hp in tqdm(list(human_proteins)):\n",
    "    human_to_fly_lookup[hp] = df_seq_hit[df_seq_hit[\"EnsemblPeptide-Human\"] == hp][\n",
    "        \"FlybaseId-Fly\"\n",
    "    ].values"
   ]
  },
  {
   "cell_type": "code",
   "execution_count": 40,
   "id": "a52f3ccc-822e-4235-8385-7aa8175aa66b",
   "metadata": {
    "tags": []
   },
   "outputs": [],
   "source": [
    "# df_struct_hit = pd.read_csv(\"fly_against_human_foldseek_mmseqs.tsv\", sep = \"\\t\", header = None)\n",
    "df_struct_hit = pd.read_csv(\n",
    "    \"structure_homology/fly_against_human_foldseek_mmseqs.tsv\",\n",
    "    sep=\"\\t\",\n",
    "    header=None,\n",
    ")\n",
    "thresh = 1e-10\n",
    "df_struct_thresh = df_struct_hit[df_struct_hit[10] < thresh]"
   ]
  },
  {
   "cell_type": "code",
   "execution_count": 41,
   "id": "c4431ab1-e120-41fa-8e68-7436243574c0",
   "metadata": {
    "tags": []
   },
   "outputs": [
    {
     "data": {
      "image/png": "[encoded data removed]",
      "text/plain": [
       "<Figure size 432x288 with 1 Axes>"
      ]
     },
     "metadata": {
      "needs_background": "light"
     },
     "output_type": "display_data"
    }
   ],
   "source": [
    "plt.hist(df_struct_thresh[1].value_counts().values, bins=np.arange(0, 250, 5))\n",
    "plt.show()"
   ]
  },
  {
   "cell_type": "code",
   "execution_count": 42,
   "id": "a97ba367-efd2-4de1-9bda-d02b051b2f87",
   "metadata": {
    "tags": []
   },
   "outputs": [
    {
     "data": {
      "image/png": "[encoded data removed]",
      "text/plain": [
       "<Figure size 432x288 with 1 Axes>"
      ]
     },
     "metadata": {
      "needs_background": "light"
     },
     "output_type": "display_data"
    }
   ],
   "source": [
    "plt.hist(\n",
    "    df_seq_hit[\"EnsemblPeptide-Human\"].value_counts().values,\n",
    "    bins=np.arange(0, 250, 5),\n",
    ")\n",
    "plt.show()"
   ]
  },
  {
   "cell_type": "code",
   "execution_count": 43,
   "id": "c4aa9210-d3a7-445b-8897-627bb11e61ee",
   "metadata": {
    "tags": []
   },
   "outputs": [
    {
     "data": {
      "application/vnd.jupyter.widget-view+json": {
       "model_id": "e7e56675c6024fb9b7d4275352b82cb4",
       "version_major": 2,
       "version_minor": 0
      },
      "text/plain": [
       "  0%|          | 0/15816 [00:00<?, ?it/s]"
      ]
     },
     "metadata": {},
     "output_type": "display_data"
    }
   ],
   "source": [
    "fly_struct_lookup = {}\n",
    "for hp in tqdm(list(human_proteins)):\n",
    "    fly_struct_lookup[hp] = df_struct_thresh[df_struct_thresh[1] == hp][0].values"
   ]
  },
  {
   "cell_type": "code",
   "execution_count": 44,
   "id": "a28e9c3e-858b-4888-a741-4709e4c66e3a",
   "metadata": {
    "tags": []
   },
   "outputs": [],
   "source": [
    "# import pickle as pk\n",
    "\n",
    "# with open(\"sequence_human_to_fly_map.pk\",\"wb\") as f:\n",
    "#     pk.dump(human_to_fly_lookup, f)\n",
    "\n",
    "# with open(\"structure_human_to_fly_map.pk\",\"wb\") as f:\n",
    "#     pk.dump(fly_struct_lookup, f)"
   ]
  },
  {
   "cell_type": "code",
   "execution_count": 45,
   "id": "ab9a06d7-3bf6-4544-bbe1-0e5d1bd58849",
   "metadata": {
    "tags": []
   },
   "outputs": [],
   "source": [
    "with open(\"sequence_human_to_fly_map.pk\", \"rb\") as f:\n",
    "    human_to_fly_lookup = pk.load(f)\n",
    "\n",
    "with open(\"structure_human_to_fly_map.pk\", \"rb\") as f:\n",
    "    fly_struct_lookup = pk.load(f)"
   ]
  },
  {
   "cell_type": "code",
   "execution_count": 46,
   "id": "dd44dc01-8f07-49fd-b756-78249344f40b",
   "metadata": {
    "tags": []
   },
   "outputs": [
    {
     "data": {
      "application/vnd.jupyter.widget-view+json": {
       "model_id": "044f7092cdb84202a4abd51b2943599e",
       "version_major": 2,
       "version_minor": 0
      },
      "text/plain": [
       "  0%|          | 0/38344 [00:00<?, ?it/s]"
      ]
     },
     "metadata": {},
     "output_type": "display_data"
    }
   ],
   "source": [
    "from itertools import product\n",
    "\n",
    "fly_expanded = []\n",
    "\n",
    "for _, r in tqdm(human_pos.iterrows(), total=len(human_pos)):\n",
    "    p1 = r[0]\n",
    "    p2 = r[1]\n",
    "    p1_hits = human_to_fly_lookup[p1]\n",
    "    p2_hits = human_to_fly_lookup[p2]\n",
    "    for f1, f2 in product(p1_hits, p2_hits):\n",
    "        fly_expanded.append(lexical_pair(f1, f2))\n",
    "fly_expanded = pd.DataFrame(fly_expanded)"
   ]
  },
  {
   "cell_type": "code",
   "execution_count": 47,
   "id": "4460917b-a250-426e-804f-761a130a4690",
   "metadata": {
    "tags": []
   },
   "outputs": [
    {
     "data": {
      "application/vnd.jupyter.widget-view+json": {
       "model_id": "0daa566e43aa4d7293004ab95ef1b47f",
       "version_major": 2,
       "version_minor": 0
      },
      "text/plain": [
       "  0%|          | 0/38344 [00:00<?, ?it/s]"
      ]
     },
     "metadata": {},
     "output_type": "display_data"
    }
   ],
   "source": [
    "from itertools import product\n",
    "\n",
    "fly_expanded_struct = []\n",
    "\n",
    "for _, r in tqdm(human_pos.iterrows(), total=len(human_pos)):\n",
    "    p1 = r[0]\n",
    "    p2 = r[1]\n",
    "    p1_hits = fly_struct_lookup[p1]\n",
    "    p2_hits = fly_struct_lookup[p2]\n",
    "    for f1, f2 in product(p1_hits, p2_hits):\n",
    "        fly_expanded_struct.append(lexical_pair(f1, f2))\n",
    "fly_expanded_struct = pd.DataFrame(fly_expanded_struct)"
   ]
  },
  {
   "cell_type": "code",
   "execution_count": 48,
   "id": "c844df28-bc96-4b4d-b416-b77b10780b59",
   "metadata": {
    "tags": []
   },
   "outputs": [],
   "source": [
    "fly_expanded_dd = fly_expanded.drop_duplicates()\n",
    "fly_expanded_struct_dd = fly_expanded_struct.drop_duplicates()"
   ]
  },
  {
   "cell_type": "code",
   "execution_count": 49,
   "id": "c013ef74-def7-482a-8b10-337e20b7f95c",
   "metadata": {
    "tags": []
   },
   "outputs": [
    {
     "data": {
      "text/plain": [
       "177376"
      ]
     },
     "execution_count": 49,
     "metadata": {},
     "output_type": "execute_result"
    }
   ],
   "source": [
    "len(fly_expanded_dd)"
   ]
  },
  {
   "cell_type": "code",
   "execution_count": 50,
   "id": "fee153fd-7dbc-48c4-8ec0-aafd665b9f7d",
   "metadata": {
    "tags": []
   },
   "outputs": [
    {
     "data": {
      "text/plain": [
       "3150457"
      ]
     },
     "execution_count": 50,
     "metadata": {},
     "output_type": "execute_result"
    }
   ],
   "source": [
    "len(fly_expanded_struct_dd)"
   ]
  },
  {
   "cell_type": "code",
   "execution_count": 51,
   "id": "6472fcdf-9bcf-42ea-b9fc-39cda5ba9cab",
   "metadata": {
    "tags": []
   },
   "outputs": [],
   "source": [
    "def lexical_fix(\n",
    "    df,\n",
    "    ncol1=\"protein1\",\n",
    "    ncol2=\"protein2\",\n",
    "    rest_cols=[\"sequence1\", \"sequence2\"],\n",
    "):\n",
    "    newdf = []\n",
    "    for _, r in tqdm(df.iterrows(), total=len(df)):\n",
    "        p1 = r[ncol1]\n",
    "        p2 = r[ncol2]\n",
    "        rest = r[rest_cols]\n",
    "        pair = lexical_pair(p1, p2)\n",
    "        newdf.append([*pair, *rest])\n",
    "    df = pd.DataFrame(newdf)\n",
    "    df.columns = [ncol1, ncol2, *rest_cols]\n",
    "    return df"
   ]
  },
  {
   "cell_type": "code",
   "execution_count": 52,
   "id": "dfdfa8d3-27a1-4944-8103-7645aa155cc3",
   "metadata": {
    "tags": []
   },
   "outputs": [],
   "source": [
    "full_true_fly_net = pd.read_csv(\"fly_full_27k.tsv\", sep=\"\\t\", header=0)\n",
    "tt3d_full_fly_net = pd.read_csv(\"full_fly_tt3d_out.tsv\", sep=\"\\t\", header=None)"
   ]
  },
  {
   "cell_type": "code",
   "execution_count": 53,
   "id": "9f1aa99b-8bbc-4547-a84e-f39629a58a23",
   "metadata": {
    "tags": []
   },
   "outputs": [
    {
     "data": {
      "application/vnd.jupyter.widget-view+json": {
       "model_id": "abff1addece0430aace1ef3f944ed6fe",
       "version_major": 2,
       "version_minor": 0
      },
      "text/plain": [
       "  0%|          | 0/27470 [00:00<?, ?it/s]"
      ]
     },
     "metadata": {},
     "output_type": "display_data"
    }
   ],
   "source": [
    "full_true_fly_net = lexical_fix(full_true_fly_net)"
   ]
  },
  {
   "cell_type": "code",
   "execution_count": 54,
   "id": "e62cc583-142f-45c1-b6be-ea22b0063f8c",
   "metadata": {
    "tags": []
   },
   "outputs": [],
   "source": [
    "full_true_fly_net = full_true_fly_net[[\"protein1\", \"protein2\"]]\n",
    "full_true_fly_net.columns = [0, 1]"
   ]
  },
  {
   "cell_type": "code",
   "execution_count": 55,
   "id": "759856e6-c156-454d-af7c-994d9d5a3bc8",
   "metadata": {
    "tags": []
   },
   "outputs": [],
   "source": [
    "import pandas as pd"
   ]
  },
  {
   "cell_type": "code",
   "execution_count": 56,
   "id": "f537d2c0-3ef5-4344-a484-81b82ebbe873",
   "metadata": {
    "tags": []
   },
   "outputs": [],
   "source": [
    "import h5py\n",
    "\n",
    "fly_embeddings = h5py.File(\n",
    "    \"/afs/csail/u/s/samsl/Work/databases/STRING/d.mela/fly.h5\", \"r\"\n",
    ")\n",
    "fly_emb_keys = list(fly_embeddings.keys())"
   ]
  },
  {
   "cell_type": "code",
   "execution_count": 57,
   "id": "186d3144-b29d-4eb4-b4e8-5c93cdbcf796",
   "metadata": {
    "tags": []
   },
   "outputs": [],
   "source": [
    "def filter_df(df, keys):\n",
    "    return df[df[0].isin(keys) & df[1].isin(keys)]"
   ]
  },
  {
   "cell_type": "code",
   "execution_count": 58,
   "id": "36a0d510-0ecb-461b-8a53-1de40dbe4592",
   "metadata": {
    "tags": []
   },
   "outputs": [],
   "source": [
    "sequence_f0_fstar = filter_df(\n",
    "    pd.concat([fly_expanded_dd, full_true_fly_net]).drop_duplicates(),\n",
    "    fly_emb_keys,\n",
    ")\n",
    "struct_f0_fstar = filter_df(\n",
    "    pd.concat([fly_expanded_struct_dd, full_true_fly_net]).drop_duplicates(),\n",
    "    fly_emb_keys,\n",
    ")"
   ]
  },
  {
   "cell_type": "code",
   "execution_count": 59,
   "id": "efaeb5f8-57f2-492e-9400-8650f872aae1",
   "metadata": {
    "tags": []
   },
   "outputs": [],
   "source": [
    "sequence_f0_fstar = pd.read_csv(\"sequence_f0_fstar.tsv\", sep=\"\\t\", header=None)\n",
    "struct_f0_fstar = pd.read_csv(\"structure_f0_fstar.tsv\", sep=\"\\t\", header=None)"
   ]
  },
  {
   "cell_type": "code",
   "execution_count": 60,
   "id": "5587a848-1cc7-4d0a-bdd7-19d2facc62a5",
   "metadata": {
    "tags": []
   },
   "outputs": [],
   "source": [
    "sequence_f0_fstar = filter_df(sequence_f0_fstar, fly_emb_keys)\n",
    "struct_f0_fstar = filter_df(struct_f0_fstar, fly_emb_keys)"
   ]
  },
  {
   "cell_type": "code",
   "execution_count": 61,
   "id": "0c180752-3ae7-44d6-95c0-9f0d22b56815",
   "metadata": {
    "tags": []
   },
   "outputs": [
    {
     "data": {
      "text/plain": [
       "110249"
      ]
     },
     "execution_count": 61,
     "metadata": {},
     "output_type": "execute_result"
    }
   ],
   "source": [
    "len(sequence_f0_fstar)"
   ]
  },
  {
   "cell_type": "code",
   "execution_count": 62,
   "id": "a976edf8-8ecc-4c9e-87ca-b5509c0c8ef7",
   "metadata": {
    "tags": []
   },
   "outputs": [
    {
     "data": {
      "text/plain": [
       "3160204"
      ]
     },
     "execution_count": 62,
     "metadata": {},
     "output_type": "execute_result"
    }
   ],
   "source": [
    "len(struct_f0_fstar)"
   ]
  },
  {
   "cell_type": "code",
   "execution_count": 63,
   "id": "9804ae4e-0595-4ddb-ac20-358ef1069f1f",
   "metadata": {
    "tags": []
   },
   "outputs": [],
   "source": [
    "# sequence_f0_fstar.to_csv(\"sequence_f0_fstar.tsv\",sep=\"\\t\",header=None,index=False)\n",
    "# struct_f0_fstar.to_csv(\"structure_f0_fstar.tsv\",sep=\"\\t\",header=None,index=False)"
   ]
  },
  {
   "cell_type": "code",
   "execution_count": 64,
   "id": "4d065542-7554-440b-9cdc-4f7f7ee5edb3",
   "metadata": {
    "tags": []
   },
   "outputs": [],
   "source": [
    "fstar = full_true_fly_net\n",
    "seq_f0 = fly_expanded_dd\n",
    "struct_f0 = fly_expanded_struct_dd"
   ]
  },
  {
   "cell_type": "code",
   "execution_count": 65,
   "id": "da30dac2-1a38-4adc-a3ea-086e711982f6",
   "metadata": {
    "tags": []
   },
   "outputs": [
    {
     "name": "stdout",
     "output_type": "stream",
     "text": [
      "0.05974878224788021 0.385802693847834\n"
     ]
    }
   ],
   "source": [
    "seq_tp = pd.merge(fstar, seq_f0, how=\"inner\").shape[0]\n",
    "seq_precision = seq_tp / len(seq_f0)\n",
    "seq_recall = seq_tp / len(fstar)\n",
    "print(seq_precision, seq_recall)"
   ]
  },
  {
   "cell_type": "code",
   "execution_count": 66,
   "id": "70d2211c-f750-49a9-b173-94dab6c07569",
   "metadata": {
    "tags": []
   },
   "outputs": [
    {
     "name": "stdout",
     "output_type": "stream",
     "text": [
      "0.005625533057584979 0.6451765562431744\n"
     ]
    }
   ],
   "source": [
    "struct_tp = pd.merge(fstar, struct_f0, how=\"inner\").shape[0]\n",
    "struct_precision = struct_tp / len(struct_f0)\n",
    "struct_recall = struct_tp / len(fstar)\n",
    "print(struct_precision, struct_recall)"
   ]
  },
  {
   "cell_type": "code",
   "execution_count": 67,
   "id": "42e31d21-da15-4599-a170-d0a8d4a57e4f",
   "metadata": {
    "tags": []
   },
   "outputs": [],
   "source": [
    "tt3d_sequence_f0_fstar_all = pd.read_csv(\n",
    "    \"~/Work/TT3D/FoldSeek_BriefCommunication/sequence_f0_fstar_out.tsv\",\n",
    "    sep=\"\\t\",\n",
    "    header=None,\n",
    ")\n",
    "tt3d_structure_f0_fstar_all = pd.read_csv(\n",
    "    \"~/Work/TT3D/FoldSeek_BriefCommunication/structure_f0_fstar_out.tsv\",\n",
    "    sep=\"\\t\",\n",
    "    header=None,\n",
    ")"
   ]
  },
  {
   "cell_type": "code",
   "execution_count": 68,
   "id": "d45c7db3-f6cb-45c3-b2e3-f70feba84eae",
   "metadata": {
    "tags": []
   },
   "outputs": [],
   "source": [
    "fstar_labeled = copy.deepcopy(fstar)\n",
    "fstar_labeled[2] = 1"
   ]
  },
  {
   "cell_type": "code",
   "execution_count": 69,
   "id": "18c78998-e762-4475-baad-252bf1ffc89a",
   "metadata": {
    "tags": []
   },
   "outputs": [],
   "source": [
    "from sklearn.metrics import average_precision_score, precision_recall_curve"
   ]
  },
  {
   "cell_type": "code",
   "execution_count": 70,
   "id": "7b0d106e-c0d2-4cfc-aa0b-ff303533f54f",
   "metadata": {
    "tags": []
   },
   "outputs": [
    {
     "name": "stdout",
     "output_type": "stream",
     "text": [
      "aupr: 0.2811500396643538\n"
     ]
    },
    {
     "data": {
      "image/png": "[encoded data removed]",
      "text/plain": [
       "<Figure size 432x288 with 1 Axes>"
      ]
     },
     "metadata": {
      "needs_background": "light"
     },
     "output_type": "display_data"
    }
   ],
   "source": [
    "seq_merged_df = pd.merge(\n",
    "    tt3d_sequence_f0_fstar_all,\n",
    "    fstar_labeled,\n",
    "    left_on=[0, 1],\n",
    "    right_on=[0, 1],\n",
    "    how=\"outer\",\n",
    ").fillna(0)\n",
    "print(f\"aupr: {average_precision_score(seq_merged_df['2_y'], seq_merged_df['2_x'])}\")\n",
    "pr, re, th = precision_recall_curve(seq_merged_df[\"2_y\"], seq_merged_df[\"2_x\"])\n",
    "plt.plot(re, pr)\n",
    "plt.show()"
   ]
  },
  {
   "cell_type": "code",
   "execution_count": 71,
   "id": "8bd0db8d-b4e6-4a99-98d8-fbf1c4b7fed7",
   "metadata": {
    "tags": []
   },
   "outputs": [
    {
     "data": {
      "text/plain": [
       "(array([[0.24916326],\n",
       "        [0.24933509],\n",
       "        [0.24977263],\n",
       "        ...,\n",
       "        [0.29332964],\n",
       "        [0.29333776],\n",
       "        [0.293354  ]]),\n",
       " array([[1.        ],\n",
       "        [0.99992719],\n",
       "        [0.99974518],\n",
       "        ...,\n",
       "        [0.38580269],\n",
       "        [0.38580269],\n",
       "        [0.38580269]]))"
      ]
     },
     "execution_count": 71,
     "metadata": {},
     "output_type": "execute_result"
    }
   ],
   "source": [
    "pr[np.argwhere(re > 0.3858)], re[np.argwhere(re > 0.3858)]"
   ]
  },
  {
   "cell_type": "code",
   "execution_count": 72,
   "id": "09ed01fd-d0a5-4752-bca1-bc766f77f0d3",
   "metadata": {
    "tags": []
   },
   "outputs": [
    {
     "data": {
      "text/plain": [
       "0.008692476814787907"
      ]
     },
     "execution_count": 72,
     "metadata": {},
     "output_type": "execute_result"
    }
   ],
   "source": [
    "len(fstar) / len(tt3d_structure_f0_fstar_all)"
   ]
  },
  {
   "cell_type": "code",
   "execution_count": 73,
   "id": "e3ea1dd5-d647-468f-9e58-b4ac48edc707",
   "metadata": {
    "tags": []
   },
   "outputs": [
    {
     "name": "stdout",
     "output_type": "stream",
     "text": [
      "aupr: 0.07590007147674763\n"
     ]
    },
    {
     "data": {
      "image/png": "[encoded data removed]",
      "text/plain": [
       "<Figure size 432x288 with 1 Axes>"
      ]
     },
     "metadata": {
      "needs_background": "light"
     },
     "output_type": "display_data"
    }
   ],
   "source": [
    "struct_merged_df = pd.merge(\n",
    "    tt3d_structure_f0_fstar_all,\n",
    "    fstar_labeled,\n",
    "    left_on=[0, 1],\n",
    "    right_on=[0, 1],\n",
    "    how=\"outer\",\n",
    ").fillna(0)\n",
    "print(\n",
    "    f\"aupr: {average_precision_score(struct_merged_df['2_y'], struct_merged_df['2_x'])}\"\n",
    ")\n",
    "pr, re, th = precision_recall_curve(struct_merged_df[\"2_y\"], struct_merged_df[\"2_x\"])\n",
    "plt.plot(re, pr)\n",
    "plt.show()"
   ]
  },
  {
   "cell_type": "code",
   "execution_count": 74,
   "id": "370581ec-deee-47d1-8e46-48d2fdf58770",
   "metadata": {},
   "outputs": [
    {
     "data": {
      "text/plain": [
       "(array([[0.00869248],\n",
       "        [0.00869264],\n",
       "        [0.00869732],\n",
       "        ...,\n",
       "        [0.06035346],\n",
       "        [0.06035366],\n",
       "        [0.06035387]]),\n",
       " array([[1.        ],\n",
       "        [1.        ],\n",
       "        [0.99992719],\n",
       "        ...,\n",
       "        [0.64521296],\n",
       "        [0.64521296],\n",
       "        [0.64521296]]))"
      ]
     },
     "execution_count": 74,
     "metadata": {},
     "output_type": "execute_result"
    }
   ],
   "source": [
    "pr[np.argwhere(re > 0.6452)], re[np.argwhere(re > 0.6452)]"
   ]
  },
  {
   "cell_type": "code",
   "execution_count": null,
   "id": "51fd8865-040e-43e4-bbf5-7cfece0581ff",
   "metadata": {},
   "outputs": [],
   "source": []
  }
 ],
 "metadata": {
  "kernelspec": {
   "display_name": "dsplat",
   "language": "python",
   "name": "dsplat"
  },
  "language_info": {
   "codemirror_mode": {
    "name": "ipython",
    "version": 3
   },
   "file_extension": ".py",
   "mimetype": "text/x-python",
   "name": "python",
   "nbconvert_exporter": "python",
   "pygments_lexer": "ipython3",
   "version": "3.9.0"
  }
 },
 "nbformat": 4,
 "nbformat_minor": 5
}
