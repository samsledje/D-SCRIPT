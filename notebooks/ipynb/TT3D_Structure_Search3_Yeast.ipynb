{
 "cells": [
  {
   "cell_type": "code",
   "execution_count": 70,
   "id": "2f6758f0-22a4-40d4-b8a7-638b0087d4f0",
   "metadata": {
    "tags": []
   },
   "outputs": [],
   "source": [
    "import copy\n",
    "import pickle as pk\n",
    "\n",
    "import matplotlib.pyplot as plt\n",
    "import numpy as np\n",
    "import pandas as pd\n",
    "from tqdm.auto import tqdm"
   ]
  },
  {
   "cell_type": "code",
   "execution_count": 71,
   "id": "9abb394e-ebe4-4ea9-a883-35e956841220",
   "metadata": {
    "tags": []
   },
   "outputs": [],
   "source": [
    "df_seq_hit = pd.read_csv(\"orthologs-human-2-yeast.tsv\", sep=\"\\t\", header=0)\n",
    "df_seq_hit[\"Yeast-EnsemblGeneID\"] = \"4932.\" + df_seq_hit[\"Yeast-EnsemblGeneID\"]\n",
    "df_seq_hit[\"EnsemblPeptide-Human\"] = \"9606.\" + df_seq_hit[\"EnsemblPeptide-Human\"]"
   ]
  },
  {
   "cell_type": "code",
   "execution_count": 72,
   "id": "5de517eb-f4e6-4d8e-8da8-b30da786c353",
   "metadata": {
    "tags": []
   },
   "outputs": [
    {
     "data": {
      "text/html": [
       "<div>\n",
       "<style scoped>\n",
       "    .dataframe tbody tr th:only-of-type {\n",
       "        vertical-align: middle;\n",
       "    }\n",
       "\n",
       "    .dataframe tbody tr th {\n",
       "        vertical-align: top;\n",
       "    }\n",
       "\n",
       "    .dataframe thead th {\n",
       "        text-align: right;\n",
       "    }\n",
       "</style>\n",
       "<table border=\"1\" class=\"dataframe\">\n",
       "  <thead>\n",
       "    <tr style=\"text-align: right;\">\n",
       "      <th></th>\n",
       "      <th>ExternalName-Yeast</th>\n",
       "      <th>Yeast-EnsemblGeneID</th>\n",
       "      <th>Yeast-SGD</th>\n",
       "      <th>EnsemblPeptide-Human</th>\n",
       "      <th>ExternalName-Human</th>\n",
       "    </tr>\n",
       "  </thead>\n",
       "  <tbody>\n",
       "    <tr>\n",
       "      <th>0</th>\n",
       "      <td>ATP6</td>\n",
       "      <td>4932.Q0085</td>\n",
       "      <td>S000007268</td>\n",
       "      <td>9606.ENSP00000354632</td>\n",
       "      <td>MT-ATP6</td>\n",
       "    </tr>\n",
       "    <tr>\n",
       "      <th>1</th>\n",
       "      <td>BI4</td>\n",
       "      <td>4932.Q0120</td>\n",
       "      <td>S000007273</td>\n",
       "      <td>9606.ENSP00000354554</td>\n",
       "      <td>MT-CYB</td>\n",
       "    </tr>\n",
       "    <tr>\n",
       "      <th>2</th>\n",
       "      <td>COX3</td>\n",
       "      <td>4932.Q0275</td>\n",
       "      <td>S000007283</td>\n",
       "      <td>9606.ENSP00000354982</td>\n",
       "      <td>MT-CO3</td>\n",
       "    </tr>\n",
       "    <tr>\n",
       "      <th>3</th>\n",
       "      <td>BI3</td>\n",
       "      <td>4932.Q0115</td>\n",
       "      <td>S000007272</td>\n",
       "      <td>9606.ENSP00000354554</td>\n",
       "      <td>MT-CYB</td>\n",
       "    </tr>\n",
       "    <tr>\n",
       "      <th>4</th>\n",
       "      <td>BI2</td>\n",
       "      <td>4932.Q0110</td>\n",
       "      <td>S000007271</td>\n",
       "      <td>9606.ENSP00000354554</td>\n",
       "      <td>MT-CYB</td>\n",
       "    </tr>\n",
       "    <tr>\n",
       "      <th>...</th>\n",
       "      <td>...</td>\n",
       "      <td>...</td>\n",
       "      <td>...</td>\n",
       "      <td>...</td>\n",
       "      <td>...</td>\n",
       "    </tr>\n",
       "    <tr>\n",
       "      <th>48208</th>\n",
       "      <td>YCK1</td>\n",
       "      <td>4932.YHR135C</td>\n",
       "      <td>S000001177</td>\n",
       "      <td>9606.ENSP00000269361</td>\n",
       "      <td>CSNK1D</td>\n",
       "    </tr>\n",
       "    <tr>\n",
       "      <th>48209</th>\n",
       "      <td>YCK1</td>\n",
       "      <td>4932.YHR135C</td>\n",
       "      <td>S000001177</td>\n",
       "      <td>9606.ENSP00000385769</td>\n",
       "      <td>CSNK1D</td>\n",
       "    </tr>\n",
       "    <tr>\n",
       "      <th>48210</th>\n",
       "      <td>YCK1</td>\n",
       "      <td>4932.YHR135C</td>\n",
       "      <td>S000001177</td>\n",
       "      <td>9606.ENSP00000463757</td>\n",
       "      <td>CSNK1D</td>\n",
       "    </tr>\n",
       "    <tr>\n",
       "      <th>48211</th>\n",
       "      <td>YCK1</td>\n",
       "      <td>4932.YHR135C</td>\n",
       "      <td>S000001177</td>\n",
       "      <td>9606.ENSP00000464551</td>\n",
       "      <td>CSNK1D</td>\n",
       "    </tr>\n",
       "    <tr>\n",
       "      <th>48212</th>\n",
       "      <td>YCK1</td>\n",
       "      <td>4932.YHR135C</td>\n",
       "      <td>S000001177</td>\n",
       "      <td>9606.ENSP00000462144</td>\n",
       "      <td>CSNK1D</td>\n",
       "    </tr>\n",
       "  </tbody>\n",
       "</table>\n",
       "<p>48213 rows × 5 columns</p>\n",
       "</div>"
      ],
      "text/plain": [
       "      ExternalName-Yeast Yeast-EnsemblGeneID   Yeast-SGD  \\\n",
       "0                   ATP6          4932.Q0085  S000007268   \n",
       "1                    BI4          4932.Q0120  S000007273   \n",
       "2                   COX3          4932.Q0275  S000007283   \n",
       "3                    BI3          4932.Q0115  S000007272   \n",
       "4                    BI2          4932.Q0110  S000007271   \n",
       "...                  ...                 ...         ...   \n",
       "48208               YCK1        4932.YHR135C  S000001177   \n",
       "48209               YCK1        4932.YHR135C  S000001177   \n",
       "48210               YCK1        4932.YHR135C  S000001177   \n",
       "48211               YCK1        4932.YHR135C  S000001177   \n",
       "48212               YCK1        4932.YHR135C  S000001177   \n",
       "\n",
       "       EnsemblPeptide-Human ExternalName-Human  \n",
       "0      9606.ENSP00000354632            MT-ATP6  \n",
       "1      9606.ENSP00000354554             MT-CYB  \n",
       "2      9606.ENSP00000354982             MT-CO3  \n",
       "3      9606.ENSP00000354554             MT-CYB  \n",
       "4      9606.ENSP00000354554             MT-CYB  \n",
       "...                     ...                ...  \n",
       "48208  9606.ENSP00000269361             CSNK1D  \n",
       "48209  9606.ENSP00000385769             CSNK1D  \n",
       "48210  9606.ENSP00000463757             CSNK1D  \n",
       "48211  9606.ENSP00000464551             CSNK1D  \n",
       "48212  9606.ENSP00000462144             CSNK1D  \n",
       "\n",
       "[48213 rows x 5 columns]"
      ]
     },
     "execution_count": 72,
     "metadata": {},
     "output_type": "execute_result"
    }
   ],
   "source": [
    "df_seq_hit"
   ]
  },
  {
   "cell_type": "code",
   "execution_count": 73,
   "id": "9cf74ee8-a84c-4fe6-856e-922bdaa32773",
   "metadata": {
    "tags": []
   },
   "outputs": [],
   "source": [
    "def lexical_pair(x, y):\n",
    "    if x < y:\n",
    "        return (x, y)\n",
    "    else:\n",
    "        return (y, x)"
   ]
  },
  {
   "cell_type": "code",
   "execution_count": 74,
   "id": "d09952b6-bec9-4daa-9046-883581d60492",
   "metadata": {
    "tags": []
   },
   "outputs": [
    {
     "data": {
      "application/vnd.jupyter.widget-view+json": {
       "model_id": "fb01d033d18147e1967806450d18c0ef",
       "version_major": 2,
       "version_minor": 0
      },
      "text/plain": [
       "  0%|          | 0/421792 [00:00<?, ?it/s]"
      ]
     },
     "metadata": {},
     "output_type": "display_data"
    }
   ],
   "source": [
    "pair_directory = (\n",
    "    \"/afs/csail.mit.edu/u/s/samsl/Work/TT3D/FoldSeek_BriefCommunication/data/pairs\"\n",
    ")\n",
    "human_training = pd.read_csv(f\"{pair_directory}/human_train.tsv\", sep=\"\\t\", header=None)\n",
    "yeast_test = pd.read_csv(f\"{pair_directory}/yeast_test.tsv\", sep=\"\\t\", header=None)\n",
    "\n",
    "human_edge_lookup = {}\n",
    "for _, r in tqdm(human_training.iterrows(), total=len(human_training)):\n",
    "    human_edge_lookup[lexical_pair(r[0], r[1])] = r[2]"
   ]
  },
  {
   "cell_type": "code",
   "execution_count": 75,
   "id": "a2579f05-3aee-4652-a114-06ebc6af8177",
   "metadata": {
    "tags": []
   },
   "outputs": [],
   "source": [
    "human_pos = human_training[human_training[2] == 1]"
   ]
  },
  {
   "cell_type": "code",
   "execution_count": 76,
   "id": "e92a15b6-b3a3-49f7-a2ab-3bf04cc7cb7e",
   "metadata": {
    "tags": []
   },
   "outputs": [],
   "source": [
    "human_proteins = set(human_training[0]).union(human_training[1])"
   ]
  },
  {
   "cell_type": "code",
   "execution_count": 77,
   "id": "73ea51dd-66f1-4f4b-931b-277c9c4c39a5",
   "metadata": {
    "tags": []
   },
   "outputs": [
    {
     "data": {
      "application/vnd.jupyter.widget-view+json": {
       "model_id": "287c301e71ca4890aa8d1346a697814b",
       "version_major": 2,
       "version_minor": 0
      },
      "text/plain": [
       "  0%|          | 0/15816 [00:00<?, ?it/s]"
      ]
     },
     "metadata": {},
     "output_type": "display_data"
    }
   ],
   "source": [
    "human_to_yeast_lookup = {}\n",
    "for hp in tqdm(list(human_proteins)):\n",
    "    human_to_yeast_lookup[hp] = df_seq_hit[df_seq_hit[\"EnsemblPeptide-Human\"] == hp][\n",
    "        \"Yeast-EnsemblGeneID\"\n",
    "    ].values"
   ]
  },
  {
   "cell_type": "code",
   "execution_count": 10,
   "id": "a52f3ccc-822e-4235-8385-7aa8175aa66b",
   "metadata": {
    "tags": []
   },
   "outputs": [],
   "source": [
    "df_struct_hit = pd.read_csv(\n",
    "    \"structure_homology/yeast_against_human_foldseek_mmseqs.tsv\",\n",
    "    sep=\"\\t\",\n",
    "    header=None,\n",
    ")\n",
    "thresh = 1e-10\n",
    "df_struct_thresh = df_struct_hit[df_struct_hit[10] < thresh]"
   ]
  },
  {
   "cell_type": "code",
   "execution_count": 11,
   "id": "c4431ab1-e120-41fa-8e68-7436243574c0",
   "metadata": {
    "tags": []
   },
   "outputs": [
    {
     "data": {
      "image/png": "[encoded data removed]",
      "text/plain": [
       "<Figure size 432x288 with 1 Axes>"
      ]
     },
     "metadata": {
      "needs_background": "light"
     },
     "output_type": "display_data"
    }
   ],
   "source": [
    "plt.hist(df_struct_thresh[1].value_counts().values, bins=np.arange(0, 250, 5))\n",
    "plt.show()"
   ]
  },
  {
   "cell_type": "code",
   "execution_count": 12,
   "id": "a97ba367-efd2-4de1-9bda-d02b051b2f87",
   "metadata": {
    "tags": []
   },
   "outputs": [
    {
     "data": {
      "image/png": "[encoded data removed]",
      "text/plain": [
       "<Figure size 432x288 with 1 Axes>"
      ]
     },
     "metadata": {
      "needs_background": "light"
     },
     "output_type": "display_data"
    }
   ],
   "source": [
    "plt.hist(\n",
    "    df_seq_hit[\"EnsemblPeptide-Human\"].value_counts().values,\n",
    "    bins=np.arange(0, 250, 5),\n",
    ")\n",
    "plt.show()"
   ]
  },
  {
   "cell_type": "code",
   "execution_count": 13,
   "id": "c4aa9210-d3a7-445b-8897-627bb11e61ee",
   "metadata": {
    "tags": []
   },
   "outputs": [
    {
     "data": {
      "application/vnd.jupyter.widget-view+json": {
       "model_id": "3d71383fb0664b4f9b64968110ff4d94",
       "version_major": 2,
       "version_minor": 0
      },
      "text/plain": [
       "  0%|          | 0/15816 [00:00<?, ?it/s]"
      ]
     },
     "metadata": {},
     "output_type": "display_data"
    }
   ],
   "source": [
    "yeast_struct_lookup = {}\n",
    "for hp in tqdm(list(human_proteins)):\n",
    "    yeast_struct_lookup[hp] = df_struct_thresh[df_struct_thresh[0] == hp][1].values"
   ]
  },
  {
   "cell_type": "code",
   "execution_count": 80,
   "id": "3645e8d2-7ecc-4300-bc91-b35156090aac",
   "metadata": {
    "tags": []
   },
   "outputs": [],
   "source": [
    "human_training = pd.read_csv(f\"{pair_directory}/human_train.tsv\", sep=\"\\t\", header=None)\n",
    "yeast_test = pd.read_csv(f\"{pair_directory}/yeast_test.tsv\", sep=\"\\t\", header=None)"
   ]
  },
  {
   "cell_type": "code",
   "execution_count": 83,
   "id": "d6752850-3639-4d81-bd47-fd2acfdfd8de",
   "metadata": {
    "tags": []
   },
   "outputs": [],
   "source": [
    "yeast_proteins = list(set(yeast_test[0]).union(yeast_test[1]))"
   ]
  },
  {
   "cell_type": "code",
   "execution_count": 84,
   "id": "5e7edb94-1234-4ae8-ab8c-f8af1c3fd114",
   "metadata": {
    "tags": []
   },
   "outputs": [
    {
     "data": {
      "application/vnd.jupyter.widget-view+json": {
       "model_id": "f7597f8667bb470ba0903f732c19c346",
       "version_major": 2,
       "version_minor": 0
      },
      "text/plain": [
       "  0%|          | 0/5664 [00:00<?, ?it/s]"
      ]
     },
     "metadata": {},
     "output_type": "display_data"
    }
   ],
   "source": [
    "yeast_to_human_lookup = {}\n",
    "for yp in tqdm(list(yeast_proteins)):\n",
    "    yeast_to_human_lookup[yp] = df_seq_hit[df_seq_hit[\"Yeast-EnsemblGeneID\"] == yp][\n",
    "        \"EnsemblPeptide-Human\"\n",
    "    ].values"
   ]
  },
  {
   "cell_type": "code",
   "execution_count": 14,
   "id": "a28e9c3e-858b-4888-a741-4709e4c66e3a",
   "metadata": {
    "tags": []
   },
   "outputs": [],
   "source": [
    "# import pickle as pk\n",
    "\n",
    "# with open(\"sequence_human_to_yeast_map.pk\",\"wb\") as f:\n",
    "#     pk.dump(human_to_yeast_lookup, f)\n",
    "\n",
    "# with open(\"structure_human_to_yeast_map.pk\",\"wb\") as f:\n",
    "#     pk.dump(yeast_struct_lookup, f)"
   ]
  },
  {
   "cell_type": "code",
   "execution_count": 93,
   "id": "ba48af79-84bd-48de-836c-642887c0ef42",
   "metadata": {
    "tags": []
   },
   "outputs": [],
   "source": [
    "with open(\"sequence_human_to_yeast_map.pk\", \"rb\") as f:\n",
    "    human_to_yeast_lookup = pk.load(f)\n",
    "\n",
    "with open(\"structure_human_to_yeast_map.pk\", \"rb\") as f:\n",
    "    yeast_struct_lookup = pk.load(f)"
   ]
  },
  {
   "cell_type": "code",
   "execution_count": 94,
   "id": "77342435-e7a7-4d3e-b1e1-ff52947b8ff0",
   "metadata": {
    "tags": []
   },
   "outputs": [
    {
     "data": {
      "application/vnd.jupyter.widget-view+json": {
       "model_id": "455d7b81f9ee4c16b8ae2bc563f127f9",
       "version_major": 2,
       "version_minor": 0
      },
      "text/plain": [
       "  0%|          | 0/421792 [00:00<?, ?it/s]"
      ]
     },
     "metadata": {},
     "output_type": "display_data"
    }
   ],
   "source": [
    "human_edge_lookup = {}\n",
    "for _, r in tqdm(human_training.iterrows(), total=len(human_training)):\n",
    "    human_edge_lookup[lexical_pair(r[0], r[1])] = r[2]"
   ]
  },
  {
   "cell_type": "code",
   "execution_count": 95,
   "id": "2258b3e1-32d6-44b0-90dc-333b74c80b6f",
   "metadata": {
    "tags": []
   },
   "outputs": [],
   "source": [
    "def checknan(x):\n",
    "    try:\n",
    "        return np.isnan(x)\n",
    "    except TypeError:\n",
    "        return False"
   ]
  },
  {
   "cell_type": "code",
   "execution_count": 86,
   "id": "e1068f34-0b93-482d-8327-96acdc235bb8",
   "metadata": {
    "tags": []
   },
   "outputs": [
    {
     "data": {
      "application/vnd.jupyter.widget-view+json": {
       "model_id": "cf5b8bc2d5494452ae793ea48c1fc05d",
       "version_major": 2,
       "version_minor": 0
      },
      "text/plain": [
       "  0%|          | 0/55000 [00:00<?, ?it/s]"
      ]
     },
     "metadata": {},
     "output_type": "display_data"
    }
   ],
   "source": [
    "from itertools import product\n",
    "\n",
    "# one to many\n",
    "one_to_many_predictions = []\n",
    "\n",
    "for _, r in tqdm(yeast_test.iterrows(), total=len(yeast_test)):\n",
    "    y0, y1, true_label = r[0], r[1], r[2]\n",
    "\n",
    "    y0_hits = yeast_to_human_lookup[y0]\n",
    "    y1_hits = yeast_to_human_lookup[y1]\n",
    "\n",
    "    pred_label = 0\n",
    "    for h0, h1 in product(y0_hits, y1_hits):\n",
    "        try:\n",
    "            if checknan(h0) or checknan(h1):\n",
    "                continue\n",
    "            human_label = human_edge_lookup[lexical_pair(h0, h1)]\n",
    "            if human_label == 1:\n",
    "                pred_label = 1\n",
    "                break\n",
    "        except KeyError:\n",
    "            continue\n",
    "    one_to_many_predictions.append([y0, y1, true_label, pred_label])"
   ]
  },
  {
   "cell_type": "code",
   "execution_count": 87,
   "id": "19fa39b5-9720-4602-b7c4-edad795d2258",
   "metadata": {
    "tags": []
   },
   "outputs": [
    {
     "data": {
      "application/vnd.jupyter.widget-view+json": {
       "model_id": "f89d82ca36c544c5b635a13beda4c230",
       "version_major": 2,
       "version_minor": 0
      },
      "text/plain": [
       "  0%|          | 0/55000 [00:00<?, ?it/s]"
      ]
     },
     "metadata": {},
     "output_type": "display_data"
    },
    {
     "name": "stdout",
     "output_type": "stream",
     "text": [
      "Precision: 0.96875, Recall: 0.1922\n"
     ]
    }
   ],
   "source": [
    "tp = 0\n",
    "fp = 0\n",
    "tn = 0\n",
    "fn = 0\n",
    "\n",
    "for f0, f1, tl, pl in tqdm(one_to_many_predictions):\n",
    "    if tl == 1:\n",
    "        if pl == 1:\n",
    "            tp += 1\n",
    "        elif pl == 0:\n",
    "            fn += 1\n",
    "    elif tl == 0:\n",
    "        if pl == 1:\n",
    "            fp += 1\n",
    "        elif pl == 0:\n",
    "            tn += 1\n",
    "\n",
    "# Precision: tp/tp+fp;   Recall: tp/tp+fn\n",
    "print(f\"Precision: {tp / (tp + fp)}, Recall: {tp / (tp + fn)}\")"
   ]
  },
  {
   "cell_type": "code",
   "execution_count": null,
   "id": "727bd373-a46e-4046-8cbd-9221388970f2",
   "metadata": {},
   "outputs": [],
   "source": []
  },
  {
   "cell_type": "code",
   "execution_count": 96,
   "id": "dd44dc01-8f07-49fd-b756-78249344f40b",
   "metadata": {
    "tags": []
   },
   "outputs": [
    {
     "data": {
      "application/vnd.jupyter.widget-view+json": {
       "model_id": "0fa6b2a325d24652b4604512be241db3",
       "version_major": 2,
       "version_minor": 0
      },
      "text/plain": [
       "  0%|          | 0/38344 [00:00<?, ?it/s]"
      ]
     },
     "metadata": {},
     "output_type": "display_data"
    }
   ],
   "source": [
    "from itertools import product\n",
    "\n",
    "yeast_expanded = []\n",
    "\n",
    "for _, r in tqdm(human_pos.iterrows(), total=len(human_pos)):\n",
    "    p1 = r[0]\n",
    "    p2 = r[1]\n",
    "    p1_hits = human_to_yeast_lookup[p1]\n",
    "    p2_hits = human_to_yeast_lookup[p2]\n",
    "    for f1, f2 in product(p1_hits, p2_hits):\n",
    "        yeast_expanded.append(lexical_pair(f1, f2))\n",
    "yeast_expanded = pd.DataFrame(yeast_expanded)"
   ]
  },
  {
   "cell_type": "code",
   "execution_count": 97,
   "id": "4460917b-a250-426e-804f-761a130a4690",
   "metadata": {
    "tags": []
   },
   "outputs": [
    {
     "data": {
      "application/vnd.jupyter.widget-view+json": {
       "model_id": "1658a0b831a545ddba61e3dc0166de0d",
       "version_major": 2,
       "version_minor": 0
      },
      "text/plain": [
       "  0%|          | 0/38344 [00:00<?, ?it/s]"
      ]
     },
     "metadata": {},
     "output_type": "display_data"
    }
   ],
   "source": [
    "from itertools import product\n",
    "\n",
    "yeast_expanded_struct = []\n",
    "\n",
    "for _, r in tqdm(human_pos.iterrows(), total=len(human_pos)):\n",
    "    p1 = r[0]\n",
    "    p2 = r[1]\n",
    "    p1_hits = yeast_struct_lookup[p1]\n",
    "    p2_hits = yeast_struct_lookup[p2]\n",
    "    for f1, f2 in product(p1_hits, p2_hits):\n",
    "        yeast_expanded_struct.append(lexical_pair(f1, f2))\n",
    "yeast_expanded_struct = pd.DataFrame(yeast_expanded_struct)"
   ]
  },
  {
   "cell_type": "code",
   "execution_count": 98,
   "id": "c844df28-bc96-4b4d-b416-b77b10780b59",
   "metadata": {
    "tags": []
   },
   "outputs": [],
   "source": [
    "yeast_expanded_dd = yeast_expanded.drop_duplicates()\n",
    "yeast_expanded_struct_dd = yeast_expanded_struct.drop_duplicates()"
   ]
  },
  {
   "cell_type": "code",
   "execution_count": 99,
   "id": "c013ef74-def7-482a-8b10-337e20b7f95c",
   "metadata": {
    "tags": []
   },
   "outputs": [
    {
     "data": {
      "text/plain": [
       "15204"
      ]
     },
     "execution_count": 99,
     "metadata": {},
     "output_type": "execute_result"
    }
   ],
   "source": [
    "len(yeast_expanded_dd)"
   ]
  },
  {
   "cell_type": "code",
   "execution_count": 100,
   "id": "fee153fd-7dbc-48c4-8ec0-aafd665b9f7d",
   "metadata": {
    "tags": []
   },
   "outputs": [
    {
     "data": {
      "text/plain": [
       "1315672"
      ]
     },
     "execution_count": 100,
     "metadata": {},
     "output_type": "execute_result"
    }
   ],
   "source": [
    "len(yeast_expanded_struct_dd)"
   ]
  },
  {
   "cell_type": "code",
   "execution_count": null,
   "id": "6472fcdf-9bcf-42ea-b9fc-39cda5ba9cab",
   "metadata": {
    "tags": []
   },
   "outputs": [],
   "source": [
    "def lexical_fix(\n",
    "    df,\n",
    "    ncol1=\"protein1\",\n",
    "    ncol2=\"protein2\",\n",
    "    rest_cols=(\"sequence1\", \"sequence2\"),\n",
    "):\n",
    "    newdf = []\n",
    "    for _, r in tqdm(df.iterrows(), total=len(df)):\n",
    "        p1 = r[ncol1]\n",
    "        p2 = r[ncol2]\n",
    "        rest = r[rest_cols]\n",
    "        pair = lexical_pair(p1, p2)\n",
    "        newdf.append([*pair, *rest])\n",
    "    df = pd.DataFrame(newdf)\n",
    "    df.columns = [ncol1, ncol2, *rest_cols]\n",
    "    return df"
   ]
  },
  {
   "cell_type": "code",
   "execution_count": 102,
   "id": "dfdfa8d3-27a1-4944-8103-7645aa155cc3",
   "metadata": {
    "tags": []
   },
   "outputs": [
    {
     "data": {
      "application/vnd.jupyter.widget-view+json": {
       "model_id": "a7209aedb4834e13932d3c798e3a2d03",
       "version_major": 2,
       "version_minor": 0
      },
      "text/plain": [
       "  0%|          | 0/31926 [00:00<?, ?it/s]"
      ]
     },
     "metadata": {},
     "output_type": "display_data"
    }
   ],
   "source": [
    "full_true_yeast_net = pd.read_csv(\"yeast_full_32k.tsv\", sep=\"\\t\", header=0)\n",
    "# tt3d_full_yeast_net = pd.read_csv(\"full_fly_tt3d_out.tsv\",sep=\"\\t\",header=None)\n",
    "full_true_fly_net = lexical_fix(full_true_yeast_net)"
   ]
  },
  {
   "cell_type": "code",
   "execution_count": 103,
   "id": "7924b6b9-5381-48f6-87bc-9294297a3a23",
   "metadata": {
    "tags": []
   },
   "outputs": [
    {
     "data": {
      "text/html": [
       "<div>\n",
       "<style scoped>\n",
       "    .dataframe tbody tr th:only-of-type {\n",
       "        vertical-align: middle;\n",
       "    }\n",
       "\n",
       "    .dataframe tbody tr th {\n",
       "        vertical-align: top;\n",
       "    }\n",
       "\n",
       "    .dataframe thead th {\n",
       "        text-align: right;\n",
       "    }\n",
       "</style>\n",
       "<table border=\"1\" class=\"dataframe\">\n",
       "  <thead>\n",
       "    <tr style=\"text-align: right;\">\n",
       "      <th></th>\n",
       "      <th>protein1</th>\n",
       "      <th>protein2</th>\n",
       "      <th>sequence1</th>\n",
       "      <th>sequence2</th>\n",
       "    </tr>\n",
       "  </thead>\n",
       "  <tbody>\n",
       "    <tr>\n",
       "      <th>0</th>\n",
       "      <td>4932.Q0045</td>\n",
       "      <td>4932.Q0105</td>\n",
       "      <td>MVQRWLYSTNAKDIAVLYFMLAIFSGMAGTAMSLIIRLELAAPGSQ...</td>\n",
       "      <td>MAFRKSNVYLSLVNSYIIDSPQPSSINYWWNMGSLLGLCLVIQIVT...</td>\n",
       "    </tr>\n",
       "    <tr>\n",
       "      <th>1</th>\n",
       "      <td>4932.Q0045</td>\n",
       "      <td>4932.Q0250</td>\n",
       "      <td>MVQRWLYSTNAKDIAVLYFMLAIFSGMAGTAMSLIIRLELAAPGSQ...</td>\n",
       "      <td>MLDLLRLQLTTFIMNDVPTPYACYFQDSATPNQEGILELHDNIMFY...</td>\n",
       "    </tr>\n",
       "    <tr>\n",
       "      <th>2</th>\n",
       "      <td>4932.Q0045</td>\n",
       "      <td>4932.Q0275</td>\n",
       "      <td>MVQRWLYSTNAKDIAVLYFMLAIFSGMAGTAMSLIIRLELAAPGSQ...</td>\n",
       "      <td>MTHLERSRHQQHPFHMVMPSPWPIVVSFALLSLALSTALTMHGYIG...</td>\n",
       "    </tr>\n",
       "    <tr>\n",
       "      <th>3</th>\n",
       "      <td>4932.Q0045</td>\n",
       "      <td>4932.YBL045C</td>\n",
       "      <td>MVQRWLYSTNAKDIAVLYFMLAIFSGMAGTAMSLIIRLELAAPGSQ...</td>\n",
       "      <td>MLRTVTSKTVSNQFKRSLATAVATPKAEVTQLSNGIVVATEHNPSA...</td>\n",
       "    </tr>\n",
       "    <tr>\n",
       "      <th>4</th>\n",
       "      <td>4932.Q0045</td>\n",
       "      <td>4932.YDL067C</td>\n",
       "      <td>MVQRWLYSTNAKDIAVLYFMLAIFSGMAGTAMSLIIRLELAAPGSQ...</td>\n",
       "      <td>MTIAPITGTIKRRVIMDIVLGFSLGGVMASYWWWGFHMDKINKREK...</td>\n",
       "    </tr>\n",
       "    <tr>\n",
       "      <th>...</th>\n",
       "      <td>...</td>\n",
       "      <td>...</td>\n",
       "      <td>...</td>\n",
       "      <td>...</td>\n",
       "    </tr>\n",
       "    <tr>\n",
       "      <th>31921</th>\n",
       "      <td>4932.YPR144C</td>\n",
       "      <td>4932.YPR163C</td>\n",
       "      <td>MVLLISEIKDIAKRLTAAGDRKQYNSIIKLINELVIPENVTQLEED...</td>\n",
       "      <td>MAPPKKTVKKMDLTSFLNDDTFGSSWAEEDVDLNKITIPIETANAN...</td>\n",
       "    </tr>\n",
       "    <tr>\n",
       "      <th>31922</th>\n",
       "      <td>4932.YPR161C</td>\n",
       "      <td>4932.YPR171W</td>\n",
       "      <td>MSDNGSPAVLPKTEFNKYKIGKVKSTPAIQRDAKTNLTYIKLRKRS...</td>\n",
       "      <td>MTKYERDPELVNFLSKVEDLNSKRYSNIPSSKPAGEALSPVRSHNS...</td>\n",
       "    </tr>\n",
       "    <tr>\n",
       "      <th>31923</th>\n",
       "      <td>4932.YPR162C</td>\n",
       "      <td>4932.YPR175W</td>\n",
       "      <td>MTISEARLSPQVNLLPIKRHSNEEVEETAAILKKRTIDNEKCKDSD...</td>\n",
       "      <td>MFGSGNVLPVKIQPPLLRPLAYRVLSRKYGLSIKSDGLSALAEFVG...</td>\n",
       "    </tr>\n",
       "    <tr>\n",
       "      <th>31924</th>\n",
       "      <td>4932.YPR178W</td>\n",
       "      <td>4932.YPR182W</td>\n",
       "      <td>MSKYIALENLPVDLQHKGATQNESTADILKQLPHERLQAVLEKIPE...</td>\n",
       "      <td>MSESSDISAMQPVNPKPFLKGLVNHRVGVKLKFNSTEYRGTLVSTD...</td>\n",
       "    </tr>\n",
       "    <tr>\n",
       "      <th>31925</th>\n",
       "      <td>4932.YPR187W</td>\n",
       "      <td>4932.YPR190C</td>\n",
       "      <td>MSDYEEAFNDGNENFEDFDVEHFSDEETYEEKPQFKDGETTDANGK...</td>\n",
       "      <td>MDELLGEALSAENQTGESTVESEKLVTPEDVMTISSLEQRTLNPDL...</td>\n",
       "    </tr>\n",
       "  </tbody>\n",
       "</table>\n",
       "<p>31926 rows × 4 columns</p>\n",
       "</div>"
      ],
      "text/plain": [
       "           protein1      protein2  \\\n",
       "0        4932.Q0045    4932.Q0105   \n",
       "1        4932.Q0045    4932.Q0250   \n",
       "2        4932.Q0045    4932.Q0275   \n",
       "3        4932.Q0045  4932.YBL045C   \n",
       "4        4932.Q0045  4932.YDL067C   \n",
       "...             ...           ...   \n",
       "31921  4932.YPR144C  4932.YPR163C   \n",
       "31922  4932.YPR161C  4932.YPR171W   \n",
       "31923  4932.YPR162C  4932.YPR175W   \n",
       "31924  4932.YPR178W  4932.YPR182W   \n",
       "31925  4932.YPR187W  4932.YPR190C   \n",
       "\n",
       "                                               sequence1  \\\n",
       "0      MVQRWLYSTNAKDIAVLYFMLAIFSGMAGTAMSLIIRLELAAPGSQ...   \n",
       "1      MVQRWLYSTNAKDIAVLYFMLAIFSGMAGTAMSLIIRLELAAPGSQ...   \n",
       "2      MVQRWLYSTNAKDIAVLYFMLAIFSGMAGTAMSLIIRLELAAPGSQ...   \n",
       "3      MVQRWLYSTNAKDIAVLYFMLAIFSGMAGTAMSLIIRLELAAPGSQ...   \n",
       "4      MVQRWLYSTNAKDIAVLYFMLAIFSGMAGTAMSLIIRLELAAPGSQ...   \n",
       "...                                                  ...   \n",
       "31921  MVLLISEIKDIAKRLTAAGDRKQYNSIIKLINELVIPENVTQLEED...   \n",
       "31922  MSDNGSPAVLPKTEFNKYKIGKVKSTPAIQRDAKTNLTYIKLRKRS...   \n",
       "31923  MTISEARLSPQVNLLPIKRHSNEEVEETAAILKKRTIDNEKCKDSD...   \n",
       "31924  MSKYIALENLPVDLQHKGATQNESTADILKQLPHERLQAVLEKIPE...   \n",
       "31925  MSDYEEAFNDGNENFEDFDVEHFSDEETYEEKPQFKDGETTDANGK...   \n",
       "\n",
       "                                               sequence2  \n",
       "0      MAFRKSNVYLSLVNSYIIDSPQPSSINYWWNMGSLLGLCLVIQIVT...  \n",
       "1      MLDLLRLQLTTFIMNDVPTPYACYFQDSATPNQEGILELHDNIMFY...  \n",
       "2      MTHLERSRHQQHPFHMVMPSPWPIVVSFALLSLALSTALTMHGYIG...  \n",
       "3      MLRTVTSKTVSNQFKRSLATAVATPKAEVTQLSNGIVVATEHNPSA...  \n",
       "4      MTIAPITGTIKRRVIMDIVLGFSLGGVMASYWWWGFHMDKINKREK...  \n",
       "...                                                  ...  \n",
       "31921  MAPPKKTVKKMDLTSFLNDDTFGSSWAEEDVDLNKITIPIETANAN...  \n",
       "31922  MTKYERDPELVNFLSKVEDLNSKRYSNIPSSKPAGEALSPVRSHNS...  \n",
       "31923  MFGSGNVLPVKIQPPLLRPLAYRVLSRKYGLSIKSDGLSALAEFVG...  \n",
       "31924  MSESSDISAMQPVNPKPFLKGLVNHRVGVKLKFNSTEYRGTLVSTD...  \n",
       "31925  MDELLGEALSAENQTGESTVESEKLVTPEDVMTISSLEQRTLNPDL...  \n",
       "\n",
       "[31926 rows x 4 columns]"
      ]
     },
     "execution_count": 103,
     "metadata": {},
     "output_type": "execute_result"
    }
   ],
   "source": [
    "full_true_yeast_net"
   ]
  },
  {
   "cell_type": "code",
   "execution_count": 104,
   "id": "e62cc583-142f-45c1-b6be-ea22b0063f8c",
   "metadata": {
    "tags": []
   },
   "outputs": [],
   "source": [
    "full_true_yeast_net = full_true_fly_net[[\"protein1\", \"protein2\"]]\n",
    "full_true_yeast_net.columns = [0, 1]"
   ]
  },
  {
   "cell_type": "code",
   "execution_count": 105,
   "id": "759856e6-c156-454d-af7c-994d9d5a3bc8",
   "metadata": {
    "tags": []
   },
   "outputs": [],
   "source": [
    "import pandas as pd"
   ]
  },
  {
   "cell_type": "code",
   "execution_count": 106,
   "id": "f537d2c0-3ef5-4344-a484-81b82ebbe873",
   "metadata": {
    "tags": []
   },
   "outputs": [],
   "source": [
    "import h5py\n",
    "\n",
    "yeast_embeddings = h5py.File(\n",
    "    \"/afs/csail/u/s/samsl/Work/databases/STRING/s.cerevisiae/yeast.h5\", \"r\"\n",
    ")\n",
    "yeast_emb_keys = list(yeast_embeddings.keys())"
   ]
  },
  {
   "cell_type": "code",
   "execution_count": 107,
   "id": "186d3144-b29d-4eb4-b4e8-5c93cdbcf796",
   "metadata": {
    "tags": []
   },
   "outputs": [],
   "source": [
    "def filter_df(df, keys):\n",
    "    return df[df[0].isin(keys) & df[1].isin(keys)]"
   ]
  },
  {
   "cell_type": "code",
   "execution_count": 108,
   "id": "c681def1-5a4b-456b-ad81-d58d14b332c2",
   "metadata": {
    "tags": []
   },
   "outputs": [
    {
     "data": {
      "text/html": [
       "<div>\n",
       "<style scoped>\n",
       "    .dataframe tbody tr th:only-of-type {\n",
       "        vertical-align: middle;\n",
       "    }\n",
       "\n",
       "    .dataframe tbody tr th {\n",
       "        vertical-align: top;\n",
       "    }\n",
       "\n",
       "    .dataframe thead th {\n",
       "        text-align: right;\n",
       "    }\n",
       "</style>\n",
       "<table border=\"1\" class=\"dataframe\">\n",
       "  <thead>\n",
       "    <tr style=\"text-align: right;\">\n",
       "      <th></th>\n",
       "      <th>0</th>\n",
       "      <th>1</th>\n",
       "    </tr>\n",
       "  </thead>\n",
       "  <tbody>\n",
       "    <tr>\n",
       "      <th>0</th>\n",
       "      <td>4932.YHL002W</td>\n",
       "      <td>4932.YKL002W</td>\n",
       "    </tr>\n",
       "    <tr>\n",
       "      <th>1</th>\n",
       "      <td>4932.YKL002W</td>\n",
       "      <td>4932.YNR006W</td>\n",
       "    </tr>\n",
       "    <tr>\n",
       "      <th>2</th>\n",
       "      <td>4932.YHR108W</td>\n",
       "      <td>4932.YKL002W</td>\n",
       "    </tr>\n",
       "    <tr>\n",
       "      <th>3</th>\n",
       "      <td>4932.YDR358W</td>\n",
       "      <td>4932.YKL002W</td>\n",
       "    </tr>\n",
       "    <tr>\n",
       "      <th>4</th>\n",
       "      <td>4932.YJR050W</td>\n",
       "      <td>4932.YOR159C</td>\n",
       "    </tr>\n",
       "    <tr>\n",
       "      <th>...</th>\n",
       "      <td>...</td>\n",
       "      <td>...</td>\n",
       "    </tr>\n",
       "    <tr>\n",
       "      <th>18963</th>\n",
       "      <td>4932.YCL031C</td>\n",
       "      <td>4932.YML093W</td>\n",
       "    </tr>\n",
       "    <tr>\n",
       "      <th>18964</th>\n",
       "      <td>4932.YDR330W</td>\n",
       "      <td>4932.YLL039C</td>\n",
       "    </tr>\n",
       "    <tr>\n",
       "      <th>18965</th>\n",
       "      <td>4932.YER094C</td>\n",
       "      <td>4932.YGL011C</td>\n",
       "    </tr>\n",
       "    <tr>\n",
       "      <th>18966</th>\n",
       "      <td>4932.YDR225W</td>\n",
       "      <td>4932.YER179W</td>\n",
       "    </tr>\n",
       "    <tr>\n",
       "      <th>18969</th>\n",
       "      <td>4932.YDR004W</td>\n",
       "      <td>4932.YOR244W</td>\n",
       "    </tr>\n",
       "  </tbody>\n",
       "</table>\n",
       "<p>15204 rows × 2 columns</p>\n",
       "</div>"
      ],
      "text/plain": [
       "                  0             1\n",
       "0      4932.YHL002W  4932.YKL002W\n",
       "1      4932.YKL002W  4932.YNR006W\n",
       "2      4932.YHR108W  4932.YKL002W\n",
       "3      4932.YDR358W  4932.YKL002W\n",
       "4      4932.YJR050W  4932.YOR159C\n",
       "...             ...           ...\n",
       "18963  4932.YCL031C  4932.YML093W\n",
       "18964  4932.YDR330W  4932.YLL039C\n",
       "18965  4932.YER094C  4932.YGL011C\n",
       "18966  4932.YDR225W  4932.YER179W\n",
       "18969  4932.YDR004W  4932.YOR244W\n",
       "\n",
       "[15204 rows x 2 columns]"
      ]
     },
     "execution_count": 108,
     "metadata": {},
     "output_type": "execute_result"
    }
   ],
   "source": [
    "yeast_expanded_dd"
   ]
  },
  {
   "cell_type": "code",
   "execution_count": 109,
   "id": "36a0d510-0ecb-461b-8a53-1de40dbe4592",
   "metadata": {
    "tags": []
   },
   "outputs": [],
   "source": [
    "sequence_f0_fstar = filter_df(\n",
    "    pd.concat([yeast_expanded_dd, full_true_yeast_net]).drop_duplicates(),\n",
    "    yeast_emb_keys,\n",
    ")\n",
    "struct_f0_fstar = filter_df(\n",
    "    pd.concat([yeast_expanded_struct_dd, full_true_yeast_net]).drop_duplicates(),\n",
    "    yeast_emb_keys,\n",
    ")"
   ]
  },
  {
   "cell_type": "code",
   "execution_count": 29,
   "id": "397e4168-ab08-4ad1-a345-0ab7f50e7a25",
   "metadata": {
    "tags": []
   },
   "outputs": [],
   "source": [
    "# sequence_f0_fstar.to_csv(\"yeast_sequence_f0_fstar.tsv\",sep=\"\\t\",header=None,index=False)\n",
    "# struct_f0_fstar.to_csv(\"yeast_structure_f0_fstar.tsv\",sep=\"\\t\",header=None,index=False)"
   ]
  },
  {
   "cell_type": "code",
   "execution_count": 30,
   "id": "9804ae4e-0595-4ddb-ac20-358ef1069f1f",
   "metadata": {
    "tags": []
   },
   "outputs": [],
   "source": [
    "# sequence_f0_fstar.to_csv(\"sequence_f0_fstar.tsv\",sep=\"\\t\",header=None,index=False)\n",
    "# struct_f0_fstar.to_csv(\"structure_f0_fstar.tsv\",sep=\"\\t\",header=None,index=False)"
   ]
  },
  {
   "cell_type": "code",
   "execution_count": 110,
   "id": "efaeb5f8-57f2-492e-9400-8650f872aae1",
   "metadata": {
    "tags": []
   },
   "outputs": [],
   "source": [
    "sequence_f0_fstar = pd.read_csv(\"yeast_sequence_f0_fstar.tsv\", sep=\"\\t\", header=None)\n",
    "struct_f0_fstar = pd.read_csv(\"yeast_structure_f0_fstar.tsv\", sep=\"\\t\", header=None)"
   ]
  },
  {
   "cell_type": "code",
   "execution_count": 111,
   "id": "5587a848-1cc7-4d0a-bdd7-19d2facc62a5",
   "metadata": {
    "tags": []
   },
   "outputs": [],
   "source": [
    "sequence_f0_fstar = filter_df(sequence_f0_fstar, yeast_emb_keys)\n",
    "struct_f0_fstar = filter_df(struct_f0_fstar, yeast_emb_keys)"
   ]
  },
  {
   "cell_type": "code",
   "execution_count": 112,
   "id": "0c180752-3ae7-44d6-95c0-9f0d22b56815",
   "metadata": {
    "tags": []
   },
   "outputs": [
    {
     "data": {
      "text/plain": [
       "40063"
      ]
     },
     "execution_count": 112,
     "metadata": {},
     "output_type": "execute_result"
    }
   ],
   "source": [
    "len(sequence_f0_fstar)"
   ]
  },
  {
   "cell_type": "code",
   "execution_count": 113,
   "id": "a976edf8-8ecc-4c9e-87ca-b5509c0c8ef7",
   "metadata": {
    "tags": []
   },
   "outputs": [
    {
     "data": {
      "text/plain": [
       "1330368"
      ]
     },
     "execution_count": 113,
     "metadata": {},
     "output_type": "execute_result"
    }
   ],
   "source": [
    "len(struct_f0_fstar)"
   ]
  },
  {
   "cell_type": "code",
   "execution_count": 114,
   "id": "4d065542-7554-440b-9cdc-4f7f7ee5edb3",
   "metadata": {
    "tags": []
   },
   "outputs": [],
   "source": [
    "fstar = full_true_yeast_net\n",
    "seq_f0 = yeast_expanded_dd\n",
    "struct_f0 = yeast_expanded_struct_dd"
   ]
  },
  {
   "cell_type": "code",
   "execution_count": 115,
   "id": "da30dac2-1a38-4adc-a3ea-086e711982f6",
   "metadata": {
    "tags": []
   },
   "outputs": [
    {
     "name": "stdout",
     "output_type": "stream",
     "text": [
      "0.40252565114443567 0.19169329073482427\n"
     ]
    }
   ],
   "source": [
    "seq_tp = pd.merge(fstar, seq_f0, how=\"inner\").shape[0]\n",
    "seq_precision = seq_tp / len(seq_f0)\n",
    "seq_recall = seq_tp / len(fstar)\n",
    "print(seq_precision, seq_recall)"
   ]
  },
  {
   "cell_type": "code",
   "execution_count": 116,
   "id": "70d2211c-f750-49a9-b173-94dab6c07569",
   "metadata": {
    "tags": []
   },
   "outputs": [
    {
     "name": "stdout",
     "output_type": "stream",
     "text": [
      "0.013095969208130902 0.5396855227714089\n"
     ]
    }
   ],
   "source": [
    "struct_tp = pd.merge(fstar, struct_f0, how=\"inner\").shape[0]\n",
    "struct_precision = struct_tp / len(struct_f0)\n",
    "struct_recall = struct_tp / len(fstar)\n",
    "print(struct_precision, struct_recall)"
   ]
  },
  {
   "cell_type": "code",
   "execution_count": 117,
   "id": "42e31d21-da15-4599-a170-d0a8d4a57e4f",
   "metadata": {
    "tags": []
   },
   "outputs": [],
   "source": [
    "tt3d_yeast_sequence_f0_fstar_all = pd.read_csv(\n",
    "    \"~/Work/TT3D/FoldSeek_BriefCommunication/yeast_sequence_f0_fstar_out.tsv\",\n",
    "    sep=\"\\t\",\n",
    "    header=None,\n",
    ")\n",
    "tt3d_structure_f0_fstar_all = pd.read_csv(\n",
    "    \"~/Work/TT3D/FoldSeek_BriefCommunication/yeast_structure_f0_fstar_out.tsv\",\n",
    "    sep=\"\\t\",\n",
    "    header=None,\n",
    ")"
   ]
  },
  {
   "cell_type": "code",
   "execution_count": 118,
   "id": "fd5058fa-b1c9-4530-a3c6-cd43010d9798",
   "metadata": {
    "tags": []
   },
   "outputs": [
    {
     "data": {
      "text/html": [
       "<div>\n",
       "<style scoped>\n",
       "    .dataframe tbody tr th:only-of-type {\n",
       "        vertical-align: middle;\n",
       "    }\n",
       "\n",
       "    .dataframe tbody tr th {\n",
       "        vertical-align: top;\n",
       "    }\n",
       "\n",
       "    .dataframe thead th {\n",
       "        text-align: right;\n",
       "    }\n",
       "</style>\n",
       "<table border=\"1\" class=\"dataframe\">\n",
       "  <thead>\n",
       "    <tr style=\"text-align: right;\">\n",
       "      <th></th>\n",
       "      <th>0</th>\n",
       "      <th>1</th>\n",
       "    </tr>\n",
       "  </thead>\n",
       "  <tbody>\n",
       "    <tr>\n",
       "      <th>0</th>\n",
       "      <td>4932.YHL002W</td>\n",
       "      <td>4932.YKL002W</td>\n",
       "    </tr>\n",
       "    <tr>\n",
       "      <th>1</th>\n",
       "      <td>4932.YKL002W</td>\n",
       "      <td>4932.YNR006W</td>\n",
       "    </tr>\n",
       "    <tr>\n",
       "      <th>2</th>\n",
       "      <td>4932.YHR108W</td>\n",
       "      <td>4932.YKL002W</td>\n",
       "    </tr>\n",
       "    <tr>\n",
       "      <th>3</th>\n",
       "      <td>4932.YDR358W</td>\n",
       "      <td>4932.YKL002W</td>\n",
       "    </tr>\n",
       "    <tr>\n",
       "      <th>4</th>\n",
       "      <td>4932.YJR050W</td>\n",
       "      <td>4932.YOR159C</td>\n",
       "    </tr>\n",
       "    <tr>\n",
       "      <th>...</th>\n",
       "      <td>...</td>\n",
       "      <td>...</td>\n",
       "    </tr>\n",
       "    <tr>\n",
       "      <th>40058</th>\n",
       "      <td>4932.YPR144C</td>\n",
       "      <td>4932.YPR163C</td>\n",
       "    </tr>\n",
       "    <tr>\n",
       "      <th>40059</th>\n",
       "      <td>4932.YPR161C</td>\n",
       "      <td>4932.YPR171W</td>\n",
       "    </tr>\n",
       "    <tr>\n",
       "      <th>40060</th>\n",
       "      <td>4932.YPR162C</td>\n",
       "      <td>4932.YPR175W</td>\n",
       "    </tr>\n",
       "    <tr>\n",
       "      <th>40061</th>\n",
       "      <td>4932.YPR178W</td>\n",
       "      <td>4932.YPR182W</td>\n",
       "    </tr>\n",
       "    <tr>\n",
       "      <th>40062</th>\n",
       "      <td>4932.YPR187W</td>\n",
       "      <td>4932.YPR190C</td>\n",
       "    </tr>\n",
       "  </tbody>\n",
       "</table>\n",
       "<p>40063 rows × 2 columns</p>\n",
       "</div>"
      ],
      "text/plain": [
       "                  0             1\n",
       "0      4932.YHL002W  4932.YKL002W\n",
       "1      4932.YKL002W  4932.YNR006W\n",
       "2      4932.YHR108W  4932.YKL002W\n",
       "3      4932.YDR358W  4932.YKL002W\n",
       "4      4932.YJR050W  4932.YOR159C\n",
       "...             ...           ...\n",
       "40058  4932.YPR144C  4932.YPR163C\n",
       "40059  4932.YPR161C  4932.YPR171W\n",
       "40060  4932.YPR162C  4932.YPR175W\n",
       "40061  4932.YPR178W  4932.YPR182W\n",
       "40062  4932.YPR187W  4932.YPR190C\n",
       "\n",
       "[40063 rows x 2 columns]"
      ]
     },
     "execution_count": 118,
     "metadata": {},
     "output_type": "execute_result"
    }
   ],
   "source": [
    "sequence_f0_fstar"
   ]
  },
  {
   "cell_type": "code",
   "execution_count": 119,
   "id": "d45c7db3-f6cb-45c3-b2e3-f70feba84eae",
   "metadata": {
    "tags": []
   },
   "outputs": [],
   "source": [
    "fstar_labeled = copy.deepcopy(fstar)\n",
    "fstar_labeled[2] = 1"
   ]
  },
  {
   "cell_type": "code",
   "execution_count": 120,
   "id": "18c78998-e762-4475-baad-252bf1ffc89a",
   "metadata": {
    "tags": []
   },
   "outputs": [],
   "source": [
    "from sklearn.metrics import average_precision_score, precision_recall_curve"
   ]
  },
  {
   "cell_type": "code",
   "execution_count": 121,
   "id": "1f2ecbfe-7f94-42cb-9606-6a1500eb2132",
   "metadata": {
    "tags": []
   },
   "outputs": [
    {
     "data": {
      "text/html": [
       "<div>\n",
       "<style scoped>\n",
       "    .dataframe tbody tr th:only-of-type {\n",
       "        vertical-align: middle;\n",
       "    }\n",
       "\n",
       "    .dataframe tbody tr th {\n",
       "        vertical-align: top;\n",
       "    }\n",
       "\n",
       "    .dataframe thead th {\n",
       "        text-align: right;\n",
       "    }\n",
       "</style>\n",
       "<table border=\"1\" class=\"dataframe\">\n",
       "  <thead>\n",
       "    <tr style=\"text-align: right;\">\n",
       "      <th></th>\n",
       "      <th>0</th>\n",
       "      <th>1</th>\n",
       "      <th>2</th>\n",
       "    </tr>\n",
       "  </thead>\n",
       "  <tbody>\n",
       "    <tr>\n",
       "      <th>0</th>\n",
       "      <td>4932.Q0045</td>\n",
       "      <td>4932.Q0105</td>\n",
       "      <td>1</td>\n",
       "    </tr>\n",
       "    <tr>\n",
       "      <th>1</th>\n",
       "      <td>4932.Q0045</td>\n",
       "      <td>4932.Q0250</td>\n",
       "      <td>1</td>\n",
       "    </tr>\n",
       "    <tr>\n",
       "      <th>2</th>\n",
       "      <td>4932.Q0045</td>\n",
       "      <td>4932.Q0275</td>\n",
       "      <td>1</td>\n",
       "    </tr>\n",
       "    <tr>\n",
       "      <th>3</th>\n",
       "      <td>4932.Q0045</td>\n",
       "      <td>4932.YBL045C</td>\n",
       "      <td>1</td>\n",
       "    </tr>\n",
       "    <tr>\n",
       "      <th>4</th>\n",
       "      <td>4932.Q0045</td>\n",
       "      <td>4932.YDL067C</td>\n",
       "      <td>1</td>\n",
       "    </tr>\n",
       "    <tr>\n",
       "      <th>...</th>\n",
       "      <td>...</td>\n",
       "      <td>...</td>\n",
       "      <td>...</td>\n",
       "    </tr>\n",
       "    <tr>\n",
       "      <th>31921</th>\n",
       "      <td>4932.YPR144C</td>\n",
       "      <td>4932.YPR163C</td>\n",
       "      <td>1</td>\n",
       "    </tr>\n",
       "    <tr>\n",
       "      <th>31922</th>\n",
       "      <td>4932.YPR161C</td>\n",
       "      <td>4932.YPR171W</td>\n",
       "      <td>1</td>\n",
       "    </tr>\n",
       "    <tr>\n",
       "      <th>31923</th>\n",
       "      <td>4932.YPR162C</td>\n",
       "      <td>4932.YPR175W</td>\n",
       "      <td>1</td>\n",
       "    </tr>\n",
       "    <tr>\n",
       "      <th>31924</th>\n",
       "      <td>4932.YPR178W</td>\n",
       "      <td>4932.YPR182W</td>\n",
       "      <td>1</td>\n",
       "    </tr>\n",
       "    <tr>\n",
       "      <th>31925</th>\n",
       "      <td>4932.YPR187W</td>\n",
       "      <td>4932.YPR190C</td>\n",
       "      <td>1</td>\n",
       "    </tr>\n",
       "  </tbody>\n",
       "</table>\n",
       "<p>31926 rows × 3 columns</p>\n",
       "</div>"
      ],
      "text/plain": [
       "                  0             1  2\n",
       "0        4932.Q0045    4932.Q0105  1\n",
       "1        4932.Q0045    4932.Q0250  1\n",
       "2        4932.Q0045    4932.Q0275  1\n",
       "3        4932.Q0045  4932.YBL045C  1\n",
       "4        4932.Q0045  4932.YDL067C  1\n",
       "...             ...           ... ..\n",
       "31921  4932.YPR144C  4932.YPR163C  1\n",
       "31922  4932.YPR161C  4932.YPR171W  1\n",
       "31923  4932.YPR162C  4932.YPR175W  1\n",
       "31924  4932.YPR178W  4932.YPR182W  1\n",
       "31925  4932.YPR187W  4932.YPR190C  1\n",
       "\n",
       "[31926 rows x 3 columns]"
      ]
     },
     "execution_count": 121,
     "metadata": {},
     "output_type": "execute_result"
    }
   ],
   "source": [
    "fstar_labeled"
   ]
  },
  {
   "cell_type": "code",
   "execution_count": 122,
   "id": "30cdc3f7-4f18-42f0-960c-224c9d55c78f",
   "metadata": {
    "tags": []
   },
   "outputs": [
    {
     "data": {
      "text/html": [
       "<div>\n",
       "<style scoped>\n",
       "    .dataframe tbody tr th:only-of-type {\n",
       "        vertical-align: middle;\n",
       "    }\n",
       "\n",
       "    .dataframe tbody tr th {\n",
       "        vertical-align: top;\n",
       "    }\n",
       "\n",
       "    .dataframe thead th {\n",
       "        text-align: right;\n",
       "    }\n",
       "</style>\n",
       "<table border=\"1\" class=\"dataframe\">\n",
       "  <thead>\n",
       "    <tr style=\"text-align: right;\">\n",
       "      <th></th>\n",
       "      <th>0</th>\n",
       "      <th>1</th>\n",
       "      <th>2</th>\n",
       "    </tr>\n",
       "  </thead>\n",
       "  <tbody>\n",
       "    <tr>\n",
       "      <th>0</th>\n",
       "      <td>4932.YHL002W</td>\n",
       "      <td>4932.YKL002W</td>\n",
       "      <td>0.023187</td>\n",
       "    </tr>\n",
       "    <tr>\n",
       "      <th>1</th>\n",
       "      <td>4932.YKL002W</td>\n",
       "      <td>4932.YNR006W</td>\n",
       "      <td>0.013596</td>\n",
       "    </tr>\n",
       "    <tr>\n",
       "      <th>2</th>\n",
       "      <td>4932.YHR108W</td>\n",
       "      <td>4932.YKL002W</td>\n",
       "      <td>0.909159</td>\n",
       "    </tr>\n",
       "    <tr>\n",
       "      <th>3</th>\n",
       "      <td>4932.YDR358W</td>\n",
       "      <td>4932.YKL002W</td>\n",
       "      <td>0.891827</td>\n",
       "    </tr>\n",
       "    <tr>\n",
       "      <th>4</th>\n",
       "      <td>4932.YJR050W</td>\n",
       "      <td>4932.YOR159C</td>\n",
       "      <td>0.210315</td>\n",
       "    </tr>\n",
       "    <tr>\n",
       "      <th>...</th>\n",
       "      <td>...</td>\n",
       "      <td>...</td>\n",
       "      <td>...</td>\n",
       "    </tr>\n",
       "    <tr>\n",
       "      <th>40058</th>\n",
       "      <td>4932.YPR144C</td>\n",
       "      <td>4932.YPR163C</td>\n",
       "      <td>0.013097</td>\n",
       "    </tr>\n",
       "    <tr>\n",
       "      <th>40059</th>\n",
       "      <td>4932.YPR161C</td>\n",
       "      <td>4932.YPR171W</td>\n",
       "      <td>0.015162</td>\n",
       "    </tr>\n",
       "    <tr>\n",
       "      <th>40060</th>\n",
       "      <td>4932.YPR162C</td>\n",
       "      <td>4932.YPR175W</td>\n",
       "      <td>0.032388</td>\n",
       "    </tr>\n",
       "    <tr>\n",
       "      <th>40061</th>\n",
       "      <td>4932.YPR178W</td>\n",
       "      <td>4932.YPR182W</td>\n",
       "      <td>0.358344</td>\n",
       "    </tr>\n",
       "    <tr>\n",
       "      <th>40062</th>\n",
       "      <td>4932.YPR187W</td>\n",
       "      <td>4932.YPR190C</td>\n",
       "      <td>0.726000</td>\n",
       "    </tr>\n",
       "  </tbody>\n",
       "</table>\n",
       "<p>40063 rows × 3 columns</p>\n",
       "</div>"
      ],
      "text/plain": [
       "                  0             1         2\n",
       "0      4932.YHL002W  4932.YKL002W  0.023187\n",
       "1      4932.YKL002W  4932.YNR006W  0.013596\n",
       "2      4932.YHR108W  4932.YKL002W  0.909159\n",
       "3      4932.YDR358W  4932.YKL002W  0.891827\n",
       "4      4932.YJR050W  4932.YOR159C  0.210315\n",
       "...             ...           ...       ...\n",
       "40058  4932.YPR144C  4932.YPR163C  0.013097\n",
       "40059  4932.YPR161C  4932.YPR171W  0.015162\n",
       "40060  4932.YPR162C  4932.YPR175W  0.032388\n",
       "40061  4932.YPR178W  4932.YPR182W  0.358344\n",
       "40062  4932.YPR187W  4932.YPR190C  0.726000\n",
       "\n",
       "[40063 rows x 3 columns]"
      ]
     },
     "execution_count": 122,
     "metadata": {},
     "output_type": "execute_result"
    }
   ],
   "source": [
    "tt3d_yeast_sequence_f0_fstar_all"
   ]
  },
  {
   "cell_type": "code",
   "execution_count": 126,
   "id": "7b0d106e-c0d2-4cfc-aa0b-ff303533f54f",
   "metadata": {
    "tags": []
   },
   "outputs": [
    {
     "name": "stdout",
     "output_type": "stream",
     "text": [
      "aupr: 0.7408774782286006\n"
     ]
    },
    {
     "data": {
      "image/png": "[encoded data removed]",
      "text/plain": [
       "<Figure size 432x288 with 1 Axes>"
      ]
     },
     "metadata": {
      "needs_background": "light"
     },
     "output_type": "display_data"
    }
   ],
   "source": [
    "seq_merged_df = pd.merge(\n",
    "    tt3d_yeast_sequence_f0_fstar_all,\n",
    "    fstar_labeled,\n",
    "    left_on=[0, 1],\n",
    "    right_on=[0, 1],\n",
    "    how=\"outer\",\n",
    ").fillna(0)\n",
    "print(f\"aupr: {average_precision_score(seq_merged_df['2_y'], seq_merged_df['2_x'])}\")\n",
    "pr, re, th = precision_recall_curve(seq_merged_df[\"2_y\"], seq_merged_df[\"2_x\"])\n",
    "plt.plot(re, pr)\n",
    "plt.show()"
   ]
  },
  {
   "cell_type": "code",
   "execution_count": null,
   "id": "452234f5-d087-45d4-939c-48f98f23af7d",
   "metadata": {},
   "outputs": [],
   "source": []
  },
  {
   "cell_type": "code",
   "execution_count": 127,
   "id": "e3ea1dd5-d647-468f-9e58-b4ac48edc707",
   "metadata": {
    "tags": []
   },
   "outputs": [
    {
     "name": "stdout",
     "output_type": "stream",
     "text": [
      "aupr: 0.12259221651919601\n"
     ]
    },
    {
     "data": {
      "image/png": "[encoded data removed]",
      "text/plain": [
       "<Figure size 432x288 with 1 Axes>"
      ]
     },
     "metadata": {
      "needs_background": "light"
     },
     "output_type": "display_data"
    }
   ],
   "source": [
    "struct_merged_df = pd.merge(\n",
    "    tt3d_structure_f0_fstar_all,\n",
    "    fstar_labeled,\n",
    "    left_on=[0, 1],\n",
    "    right_on=[0, 1],\n",
    "    how=\"outer\",\n",
    ").fillna(0)\n",
    "print(\n",
    "    f\"aupr: {average_precision_score(struct_merged_df['2_y'], struct_merged_df['2_x'])}\"\n",
    ")\n",
    "pr, re, th = precision_recall_curve(struct_merged_df[\"2_y\"], struct_merged_df[\"2_x\"])\n",
    "plt.plot(re, pr)\n",
    "plt.show()"
   ]
  },
  {
   "cell_type": "code",
   "execution_count": 129,
   "id": "d991f545-4a76-4514-952f-55bf92be011c",
   "metadata": {
    "tags": []
   },
   "outputs": [
    {
     "data": {
      "text/plain": [
       "(array([[0.02399787],\n",
       "        [0.02399798],\n",
       "        [0.0240012 ],\n",
       "        ...,\n",
       "        [0.08565478],\n",
       "        [0.0856552 ],\n",
       "        [0.08565563]]),\n",
       " array([[1.        ],\n",
       "        [1.        ],\n",
       "        [0.99984339],\n",
       "        ...,\n",
       "        [0.53971685],\n",
       "        [0.53971685],\n",
       "        [0.53971685]]))"
      ]
     },
     "execution_count": 129,
     "metadata": {},
     "output_type": "execute_result"
    }
   ],
   "source": [
    "pr[np.argwhere(re > 0.5397)], re[np.argwhere(re > 0.5397)]"
   ]
  },
  {
   "cell_type": "code",
   "execution_count": 130,
   "id": "cc8931ad-b34e-4536-8c57-696776b6c5fd",
   "metadata": {
    "tags": []
   },
   "outputs": [
    {
     "name": "stdout",
     "output_type": "stream",
     "text": [
      "aupr: 0.12259221651919601\n"
     ]
    },
    {
     "data": {
      "image/png": "[encoded data removed]",
      "text/plain": [
       "<Figure size 432x288 with 1 Axes>"
      ]
     },
     "metadata": {
      "needs_background": "light"
     },
     "output_type": "display_data"
    }
   ],
   "source": [
    "print(\n",
    "    f\"aupr: {average_precision_score(struct_merged_df['2_y'], struct_merged_df['2_x'])}\"\n",
    ")\n",
    "plt.scatter(re, pr, s=2)\n",
    "plt.show()"
   ]
  }
 ],
 "metadata": {
  "kernelspec": {
   "display_name": "dsplat",
   "language": "python",
   "name": "dsplat"
  },
  "language_info": {
   "codemirror_mode": {
    "name": "ipython",
    "version": 3
   },
   "file_extension": ".py",
   "mimetype": "text/x-python",
   "name": "python",
   "nbconvert_exporter": "python",
   "pygments_lexer": "ipython3",
   "version": "3.9.0"
  }
 },
 "nbformat": 4,
 "nbformat_minor": 5
}
